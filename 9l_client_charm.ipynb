{
 "cells": [
  {
   "cell_type": "code",
   "execution_count": 147,
   "id": "464da890",
   "metadata": {},
   "outputs": [],
   "source": [
    "import requests\n",
    "\n",
    "import urllib.request\n",
    "import json "
   ]
  },
  {
   "cell_type": "code",
   "execution_count": 160,
   "id": "3aca32ac",
   "metadata": {},
   "outputs": [],
   "source": [
    "CreditScore, Geography, Age, Balance, NumOfProducts, IsActiveMember,  EstimatedSalary = 608, \"Spain\", 41, 83807.86, 1, 1, 112542.58"
   ]
  },
  {
   "cell_type": "code",
   "execution_count": 161,
   "id": "01d12fc8",
   "metadata": {},
   "outputs": [
    {
     "data": {
      "text/plain": [
       "(608, 'Spain', 41, 83807.86, 1, 1, 112542.58)"
      ]
     },
     "execution_count": 161,
     "metadata": {},
     "output_type": "execute_result"
    }
   ],
   "source": [
    "data = (CreditScore, Geography, Age, Balance, NumOfProducts, IsActiveMember,  EstimatedSalary)\n",
    "data"
   ]
  },
  {
   "cell_type": "code",
   "execution_count": 162,
   "id": "fb412188",
   "metadata": {},
   "outputs": [],
   "source": [
    "def send_json(x):\n",
    "    CreditScore, Geography, Age, Balance, NumOfProducts, IsActiveMember, EstimatedSalary = x\n",
    "\n",
    "    body =  {\n",
    "    \"CreditScore\": CreditScore, \n",
    "    \"Geography\": Geography,\n",
    "    \"Age\": Age,\n",
    "    \"Balance\": Balance,\n",
    "    \"NumOfProducts\": NumOfProducts,\n",
    "    'IsActiveMember' : IsActiveMember,\n",
    "    \"EstimatedSalary\": EstimatedSalary\n",
    "        }\n",
    "    \n",
    "    print(body)\n",
    "    myurl = 'http://192.168.0.106:5000/predict'\n",
    "    headers = {'content-type': 'application/json; charset=utf-8'}\n",
    "    response = requests.post(myurl, json=body, headers=headers)\n",
    "\n",
    "    response.raise_for_status()  # raises exception when not a 2xx response\n",
    "    return response.json()['predictions']"
   ]
  },
  {
   "cell_type": "code",
   "execution_count": 163,
   "id": "bb2dbb6c",
   "metadata": {
    "scrolled": true
   },
   "outputs": [
    {
     "name": "stdout",
     "output_type": "stream",
     "text": [
      "{'CreditScore': 608, 'Geography': 'Spain', 'Age': 41, 'Balance': 83807.86, 'NumOfProducts': 1, 'IsActiveMember': 1, 'EstimatedSalary': 112542.58}\n",
      "предсказание 0.1508081349934226\n"
     ]
    }
   ],
   "source": [
    "response = send_json(data)\n",
    "print('предсказание', response)"
   ]
  },
  {
   "cell_type": "code",
   "execution_count": null,
   "id": "d1d3ba65",
   "metadata": {},
   "outputs": [],
   "source": []
  },
  {
   "cell_type": "code",
   "execution_count": null,
   "id": "56b5206e",
   "metadata": {},
   "outputs": [],
   "source": []
  },
  {
   "cell_type": "code",
   "execution_count": null,
   "id": "c5bc06c0",
   "metadata": {},
   "outputs": [],
   "source": []
  }
 ],
 "metadata": {
  "kernelspec": {
   "display_name": "Python 3 (ipykernel)",
   "language": "python",
   "name": "python3"
  },
  "language_info": {
   "codemirror_mode": {
    "name": "ipython",
    "version": 3
   },
   "file_extension": ".py",
   "mimetype": "text/x-python",
   "name": "python",
   "nbconvert_exporter": "python",
   "pygments_lexer": "ipython3",
   "version": "3.11.4"
  }
 },
 "nbformat": 4,
 "nbformat_minor": 5
}

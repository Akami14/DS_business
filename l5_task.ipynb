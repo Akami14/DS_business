{
 "cells": [
  {
   "cell_type": "code",
   "execution_count": 35,
   "id": "9a4f1928",
   "metadata": {},
   "outputs": [],
   "source": [
    "import pandas as pd\n",
    "import numpy as np\n",
    "\n",
    "from sklearn.model_selection import train_test_split\n",
    "#from sklearn.feature_extraction.text import TfidfVectorizer\n",
    "import itertools\n",
    "\n",
    "import matplotlib.pyplot as plt\n",
    "\n",
    "from sklearn.pipeline import Pipeline, make_pipeline\n",
    "from sklearn.base import BaseEstimator, TransformerMixin\n",
    "from sklearn.pipeline import Pipeline\n",
    "from sklearn.pipeline import FeatureUnion\n",
    "\n",
    "from sklearn.ensemble import RandomForestClassifier\n",
    "from catboost import CatBoostClassifier\n",
    "from sklearn.ensemble import HistGradientBoostingClassifier\n",
    "from xgboost import XGBRFClassifier\n",
    "from lightgbm import LGBMClassifier\n",
    "from sklearn.tree import DecisionTreeClassifier\n",
    "from sklearn.svm import SVC\n",
    "from sklearn.linear_model import LogisticRegression\n",
    "from sklearn.naive_bayes import GaussianNB\n",
    "from sklearn.neighbors import KNeighborsClassifier\n",
    "\n",
    "from sklearn.preprocessing import StandardScaler, MinMaxScaler\n",
    "from sklearn.model_selection import GridSearchCV, RandomizedSearchCV, KFold\n",
    "%matplotlib inline\n",
    "\n",
    "from sklearn.metrics import f1_score, roc_auc_score, precision_score, \\\n",
    "classification_report, precision_recall_curve, confusion_matrix, auc, average_precision_score"
   ]
  },
  {
   "cell_type": "markdown",
   "id": "d251392a",
   "metadata": {},
   "source": [
    "1. Для нашего пайплайна (Case1) поэкспериментировать с разными моделями: 1 - бустинг, 2 - логистическая регрессия (не забудьте здесь добавить в cont_transformer стандартизацию - нормирование вещественных признаков)\n",
    "2. Отобрать лучшую модель по метрикам (кстати, какая по вашему мнению здесь наиболее подходящая DS-метрика)\n",
    "3. Для отобранной модели (на отложенной выборке) сделать оценку экономической эффективности при тех же вводных, как в вопросе 2 (1 доллар на привлечение, 2 доллара - с каждого правильно классифицированного (True Positive) удержанного). (подсказка) нужно посчитать FP/TP/FN/TN для выбранного оптимального порога вероятности и посчитать выручку и траты. \n",
    "4. (опционально) Провести подбор гиперпараметров лучшей модели по итогам 2-3\n",
    "5. (опционально) Еще раз провести оценку экономической эффективности"
   ]
  },
  {
   "cell_type": "code",
   "execution_count": 36,
   "id": "07dc10d1",
   "metadata": {
    "scrolled": true
   },
   "outputs": [],
   "source": [
    "df = pd.read_csv(\"churn_data.csv\")\n",
    "df.head(3)\n",
    "df.drop(columns=['CustomerId'], inplace=True)"
   ]
  },
  {
   "cell_type": "code",
   "execution_count": 37,
   "id": "61abfb22",
   "metadata": {},
   "outputs": [
    {
     "data": {
      "text/plain": [
       "0    79.63\n",
       "1    20.37\n",
       "Name: Exited, dtype: float64"
      ]
     },
     "execution_count": 37,
     "metadata": {},
     "output_type": "execute_result"
    }
   ],
   "source": [
    "df['Exited'].value_counts()/df.shape[0]*100"
   ]
  },
  {
   "cell_type": "code",
   "execution_count": 38,
   "id": "69634da1",
   "metadata": {},
   "outputs": [],
   "source": [
    "#соберем наш простой pipeline, но нам понадобится написать класс для выбора нужного поля\n",
    "class FeatureSelector(BaseEstimator, TransformerMixin):\n",
    "    def __init__(self, column):\n",
    "        self.column = column\n",
    "\n",
    "    def fit(self, X, y=None):\n",
    "        return self\n",
    "\n",
    "    def transform(self, X, y=None):\n",
    "        return X[self.column]\n",
    "    \n",
    "class NumberSelector(BaseEstimator, TransformerMixin):\n",
    "    \"\"\"\n",
    "    Transformer to select a single column from the data frame to perform additional transformations on\n",
    "    Use on numeric columns in the data\n",
    "    \"\"\"\n",
    "    def __init__(self, key):\n",
    "        self.key = key\n",
    "\n",
    "    def fit(self, X, y=None):\n",
    "        return self\n",
    "\n",
    "    def transform(self, X):\n",
    "        return X[[self.key]]\n",
    "    \n",
    "class OHEEncoder(BaseEstimator, TransformerMixin):\n",
    "    def __init__(self, key):\n",
    "        self.key = key\n",
    "        self.columns = []\n",
    "\n",
    "    def fit(self, X, y=None):\n",
    "        self.columns = [col for col in pd.get_dummies(X, prefix=self.key).columns]\n",
    "        return self\n",
    "\n",
    "    def transform(self, X):\n",
    "        X = pd.get_dummies(X, prefix=self.key)\n",
    "        test_columns = [col for col in X.columns]\n",
    "        for col_ in self.columns:\n",
    "            if col_ not in test_columns:\n",
    "                X[col_] = 0\n",
    "        return X[self.columns]"
   ]
  },
  {
   "cell_type": "code",
   "execution_count": 39,
   "id": "4048053a",
   "metadata": {},
   "outputs": [],
   "source": [
    "#разделим данные на train/test\n",
    "X_train, X_test, y_train, y_test = train_test_split(df, df['Exited'], stratify=df['Exited'], random_state=99)"
   ]
  },
  {
   "cell_type": "markdown",
   "id": "b79f3e51",
   "metadata": {},
   "source": [
    "### Фунция собирающая пайпалайн"
   ]
  },
  {
   "cell_type": "code",
   "execution_count": 40,
   "id": "e60b9410",
   "metadata": {},
   "outputs": [],
   "source": [
    "def pipline_prepare(model_status='tree', categorical_columns=[], continuous_columns=[]):\n",
    "    final_transformers = []\n",
    " \n",
    "    # собираем пайплайн для категориальных признаков который выберает признак и декодирует его\n",
    "    for cat_col in categorical_columns:\n",
    "        cat_transformer = Pipeline([\n",
    "                    ('selector', FeatureSelector(column=cat_col)),\n",
    "                    ('ohe', OHEEncoder(key=cat_col))])\n",
    "        final_transformers.append((cat_col, cat_transformer))\n",
    "        \n",
    "   \n",
    "    for cont_col in continuous_columns:\n",
    "        if model_status == 'tree':\n",
    "            cont_transformer = Pipeline([\n",
    "                        ('selector', NumberSelector(key=cont_col))])\n",
    "            final_transformers.append((cont_col, cont_transformer))\n",
    "        elif model_status == 'lineral':\n",
    "            cont_transformer = Pipeline([\n",
    "                        ('selector', NumberSelector(key=cont_col)),\n",
    "                ('standartization', StandardScaler())])\n",
    "            final_transformers.append((cont_col, cont_transformer))\n",
    "        elif model_status == 'vectors':\n",
    "            cont_transformer = Pipeline([\n",
    "                        ('selector', NumberSelector(key=cont_col)),\n",
    "                    ('minmax', MinMaxScaler())])\n",
    "            final_transformers.append((cont_col, cont_transformer))\n",
    "            \n",
    "            \n",
    "        \n",
    "        \n",
    "    # обьединяем трансформаторы кактегориальных и числовых признаков\n",
    "    feats = FeatureUnion(final_transformers)\n",
    "    feature_processing = Pipeline([('feats', feats)])\n",
    "\n",
    "    return feats"
   ]
  },
  {
   "cell_type": "markdown",
   "id": "06708294",
   "metadata": {},
   "source": [
    "### Сборка пайплайнов в зависимости от природы ML модели"
   ]
  },
  {
   "cell_type": "code",
   "execution_count": 41,
   "id": "589f3ebc",
   "metadata": {
    "scrolled": true
   },
   "outputs": [],
   "source": [
    "categorical_columns = ['Geography', 'Gender', 'Tenure', 'HasCrCard', 'IsActiveMember']\n",
    "continuous_columns = ['CreditScore', 'Age', 'Balance', 'NumOfProducts', 'EstimatedSalary']\n",
    "\n",
    "feature_tree = pipline_prepare(categorical_columns=categorical_columns, continuous_columns=continuous_columns)\n",
    "feature_vectors = pipline_prepare(model_status='vectors', categorical_columns=categorical_columns, continuous_columns=continuous_columns)\n",
    "feature_lineral = pipline_prepare(model_status='lineral', categorical_columns=categorical_columns, continuous_columns=continuous_columns)"
   ]
  },
  {
   "cell_type": "markdown",
   "id": "4f108b16",
   "metadata": {},
   "source": [
    "### Словарь метрик для ML модели"
   ]
  },
  {
   "cell_type": "code",
   "execution_count": 42,
   "id": "ac827162",
   "metadata": {},
   "outputs": [],
   "source": [
    "def metrics(y_test, preds, score):\n",
    "    metric_dict = {}\n",
    "    precision, recall, thresholds = precision_recall_curve(y_test, score)\n",
    "    fscore = (2 * precision * recall) / (precision + recall)\n",
    "    # locate the index of the largest f score\n",
    "    ix = np.argmax(fscore)\n",
    "    metric_dict['thresholds'] = thresholds[ix]\n",
    "    metric_dict['precision'] = precision[ix]\n",
    "    metric_dict['recall'] = recall[ix]\n",
    "    metric_dict['f_score'] = fscore[ix]\n",
    "    metric_dict['auc_precision_recall'] = auc(recall, precision)\n",
    "    metric_dict['average_precision'] = average_precision_score(y_test, score)\n",
    "    return metric_dict\n"
   ]
  },
  {
   "cell_type": "markdown",
   "id": "2c3678cb",
   "metadata": {},
   "source": [
    "### Pipline обучения модели"
   ]
  },
  {
   "cell_type": "code",
   "execution_count": 43,
   "id": "ad9423f9",
   "metadata": {},
   "outputs": [],
   "source": [
    "def model_train(feature, Classifier):\n",
    "    pipeline = Pipeline([\n",
    "        ('features', feature),\n",
    "        ('classifier', Classifier),\n",
    "    ])\n",
    "    pipeline.fit(X_train, y_train)\n",
    "    score = pipeline.predict_proba(X_test)[:, 1]\n",
    "    preds = pipeline.predict(X_test)\n",
    "    return score, preds\n",
    "    "
   ]
  },
  {
   "cell_type": "code",
   "execution_count": 51,
   "id": "5b48bf8a",
   "metadata": {},
   "outputs": [],
   "source": [
    "def plot_confusion_matrix(cm, classes,\n",
    "                          normalize=False,\n",
    "                          title='Confusion matrix',\n",
    "                          cmap=plt.cm.Blues):\n",
    "    \"\"\"\n",
    "    This function prints and plots the confusion matrix.\n",
    "    Normalization can be applied by setting `normalize=True`.\n",
    "    \"\"\"\n",
    "    plt.imshow(cm, interpolation='nearest', cmap=cmap)\n",
    "    plt.title(title)\n",
    "    plt.colorbar()\n",
    "    tick_marks = np.arange(len(classes))\n",
    "    plt.xticks(tick_marks, classes, rotation=45)\n",
    "    plt.yticks(tick_marks, classes)\n",
    "\n",
    "    if normalize:\n",
    "        cm = cm.astype('float') / cm.sum(axis=1)[:, np.newaxis]\n",
    "        print(\"Normalized confusion matrix\")\n",
    "    else:\n",
    "        print('Confusion matrix, without normalization')\n",
    "\n",
    "    print(cm)\n",
    "\n",
    "    thresh = cm.max() / 2.\n",
    "    for i, j in itertools.product(range(cm.shape[0]), range(cm.shape[1])):\n",
    "        plt.text(j, i, cm[i, j],\n",
    "                 horizontalalignment=\"center\",\n",
    "                 color=\"white\" if cm[i, j] > thresh else \"black\")\n",
    "\n",
    "    plt.tight_layout()\n",
    "    plt.ylabel('True label')\n",
    "    plt.xlabel('Predicted label')"
   ]
  },
  {
   "cell_type": "markdown",
   "id": "ec8075c3",
   "metadata": {},
   "source": [
    "## Модели и их метрики"
   ]
  },
  {
   "cell_type": "markdown",
   "id": "64eec85c",
   "metadata": {},
   "source": [
    "### HistGradientBoostingClassifier"
   ]
  },
  {
   "cell_type": "code",
   "execution_count": 45,
   "id": "fa7a0de5",
   "metadata": {
    "scrolled": false
   },
   "outputs": [],
   "source": [
    "score, preds = model_train(feature_tree, HistGradientBoostingClassifier(random_state=42))\n",
    "hist = metrics(y_test, preds, score)"
   ]
  },
  {
   "cell_type": "markdown",
   "id": "c4c193d8",
   "metadata": {},
   "source": [
    "### CatBoostClassifier"
   ]
  },
  {
   "cell_type": "code",
   "execution_count": 46,
   "id": "f4d2e49a",
   "metadata": {
    "scrolled": true
   },
   "outputs": [],
   "source": [
    "score, preds = model_train(feature=feature_tree, Classifier=CatBoostClassifier(random_state=42, silent=True))\n",
    "cat = metrics(y_test, preds, score)"
   ]
  },
  {
   "cell_type": "markdown",
   "id": "388cfdeb",
   "metadata": {},
   "source": [
    "### LGBMClassifier"
   ]
  },
  {
   "cell_type": "code",
   "execution_count": 24,
   "id": "72617b1a",
   "metadata": {
    "scrolled": false
   },
   "outputs": [
    {
     "name": "stdout",
     "output_type": "stream",
     "text": [
      "[LightGBM] [Info] Number of positive: 1528, number of negative: 5972\n",
      "[LightGBM] [Warning] Auto-choosing row-wise multi-threading, the overhead of testing was 0.000293 seconds.\n",
      "You can set `force_row_wise=true` to remove the overhead.\n",
      "And if memory is not enough, you can set `force_col_wise=true`.\n",
      "[LightGBM] [Info] Total Bins 874\n",
      "[LightGBM] [Info] Number of data points in the train set: 7500, number of used features: 25\n",
      "[LightGBM] [Info] [binary:BoostFromScore]: pavg=0.203733 -> initscore=-1.363122\n",
      "[LightGBM] [Info] Start training from score -1.363122\n"
     ]
    }
   ],
   "source": [
    "score, preds = model_train(feature=feature_tree, Classifier=LGBMClassifier(random_state=42) )\n",
    "lgbm = metrics(y_test, preds, score)"
   ]
  },
  {
   "cell_type": "markdown",
   "id": "6c9f30bc",
   "metadata": {},
   "source": [
    "### XGBRFClassifier"
   ]
  },
  {
   "cell_type": "code",
   "execution_count": 25,
   "id": "dfa05926",
   "metadata": {},
   "outputs": [],
   "source": [
    "score, preds = model_train(feature=feature_tree, Classifier=XGBRFClassifier(random_state=42))\n",
    "xgbd = metrics(y_test, preds, score)"
   ]
  },
  {
   "cell_type": "markdown",
   "id": "612dc120",
   "metadata": {},
   "source": [
    "### Метод опорных векторов SVC"
   ]
  },
  {
   "cell_type": "code",
   "execution_count": 26,
   "id": "6e550a70",
   "metadata": {},
   "outputs": [],
   "source": [
    "score, preds = model_train(feature=feature_vectors, Classifier=SVC(random_state=42, kernel='poly', probability=True))\n",
    "svm = metrics(y_test, preds, score)"
   ]
  },
  {
   "cell_type": "markdown",
   "id": "5424e4e3",
   "metadata": {},
   "source": [
    "### LogisticRegression"
   ]
  },
  {
   "cell_type": "code",
   "execution_count": 27,
   "id": "b90138e5",
   "metadata": {
    "scrolled": true
   },
   "outputs": [],
   "source": [
    "score, preds = model_train(feature_lineral, LogisticRegression(random_state=42))\n",
    "log = metrics(y_test, preds, score)"
   ]
  },
  {
   "cell_type": "markdown",
   "id": "6cbb11ac",
   "metadata": {},
   "source": [
    "### RandomForestClassifier"
   ]
  },
  {
   "cell_type": "code",
   "execution_count": 28,
   "id": "9663120f",
   "metadata": {},
   "outputs": [],
   "source": [
    "score, preds = model_train(feature_tree, RandomForestClassifier(random_state=42))\n",
    "rf =  metrics(y_test, preds, score)"
   ]
  },
  {
   "cell_type": "markdown",
   "id": "cae7d06b",
   "metadata": {},
   "source": [
    "### DecisionTreeClassifier"
   ]
  },
  {
   "cell_type": "code",
   "execution_count": 29,
   "id": "f29c5e10",
   "metadata": {},
   "outputs": [],
   "source": [
    "score, preds = model_train(feature_tree, DecisionTreeClassifier(random_state=42))\n",
    "tree =  metrics(y_test, preds, score)"
   ]
  },
  {
   "cell_type": "markdown",
   "id": "9d7a95c8",
   "metadata": {},
   "source": [
    "### GaussianNB"
   ]
  },
  {
   "cell_type": "code",
   "execution_count": 30,
   "id": "72261b8d",
   "metadata": {},
   "outputs": [],
   "source": [
    "score, preds = model_train(feature_tree, GaussianNB())\n",
    "bayas =  metrics(y_test, preds, score)"
   ]
  },
  {
   "cell_type": "markdown",
   "id": "3c72512f",
   "metadata": {},
   "source": [
    "### KNeighborsClassifier"
   ]
  },
  {
   "cell_type": "code",
   "execution_count": 31,
   "id": "2ef861dd",
   "metadata": {},
   "outputs": [],
   "source": [
    "score, preds  = model_train(feature_vectors, KNeighborsClassifier())\n",
    "neigbors =  metrics(y_test, preds, score)"
   ]
  },
  {
   "cell_type": "markdown",
   "id": "6d135dbe",
   "metadata": {},
   "source": [
    "### Итоговая таблица признаков"
   ]
  },
  {
   "cell_type": "code",
   "execution_count": 32,
   "id": "b3b79f16",
   "metadata": {},
   "outputs": [
    {
     "data": {
      "text/html": [
       "<div>\n",
       "<style scoped>\n",
       "    .dataframe tbody tr th:only-of-type {\n",
       "        vertical-align: middle;\n",
       "    }\n",
       "\n",
       "    .dataframe tbody tr th {\n",
       "        vertical-align: top;\n",
       "    }\n",
       "\n",
       "    .dataframe thead th {\n",
       "        text-align: right;\n",
       "    }\n",
       "</style>\n",
       "<table border=\"1\" class=\"dataframe\">\n",
       "  <thead>\n",
       "    <tr style=\"text-align: right;\">\n",
       "      <th></th>\n",
       "      <th>HistGradientBoostingClassifier</th>\n",
       "      <th>CatBoostClassifier</th>\n",
       "      <th>XGBRFClassifier</th>\n",
       "      <th>LGBMClassifier</th>\n",
       "      <th>RandomForestClassifier</th>\n",
       "      <th>DecisionTreeClassifier</th>\n",
       "      <th>LogisticRegression</th>\n",
       "      <th>SVC</th>\n",
       "      <th>GaussianNB</th>\n",
       "      <th>KNeighborsClassifier</th>\n",
       "    </tr>\n",
       "  </thead>\n",
       "  <tbody>\n",
       "    <tr>\n",
       "      <th>thresholds</th>\n",
       "      <td>0.359707</td>\n",
       "      <td>0.377792</td>\n",
       "      <td>0.297498</td>\n",
       "      <td>0.300170</td>\n",
       "      <td>0.380000</td>\n",
       "      <td>1.000000</td>\n",
       "      <td>0.260801</td>\n",
       "      <td>0.182361</td>\n",
       "      <td>0.231820</td>\n",
       "      <td>0.200000</td>\n",
       "    </tr>\n",
       "    <tr>\n",
       "      <th>precision</th>\n",
       "      <td>0.666667</td>\n",
       "      <td>0.695067</td>\n",
       "      <td>0.616981</td>\n",
       "      <td>0.624762</td>\n",
       "      <td>0.687927</td>\n",
       "      <td>0.519553</td>\n",
       "      <td>0.441088</td>\n",
       "      <td>0.496997</td>\n",
       "      <td>0.428571</td>\n",
       "      <td>0.280395</td>\n",
       "    </tr>\n",
       "    <tr>\n",
       "      <th>recall</th>\n",
       "      <td>0.609037</td>\n",
       "      <td>0.609037</td>\n",
       "      <td>0.642436</td>\n",
       "      <td>0.644401</td>\n",
       "      <td>0.593320</td>\n",
       "      <td>0.548134</td>\n",
       "      <td>0.573674</td>\n",
       "      <td>0.650295</td>\n",
       "      <td>0.583497</td>\n",
       "      <td>0.724951</td>\n",
       "    </tr>\n",
       "    <tr>\n",
       "      <th>f_score</th>\n",
       "      <td>0.636550</td>\n",
       "      <td>0.649215</td>\n",
       "      <td>0.629451</td>\n",
       "      <td>0.634429</td>\n",
       "      <td>0.637131</td>\n",
       "      <td>0.533461</td>\n",
       "      <td>0.498719</td>\n",
       "      <td>0.563404</td>\n",
       "      <td>0.494176</td>\n",
       "      <td>0.404384</td>\n",
       "    </tr>\n",
       "    <tr>\n",
       "      <th>auc_precision_recall</th>\n",
       "      <td>0.702436</td>\n",
       "      <td>0.715994</td>\n",
       "      <td>0.697524</td>\n",
       "      <td>0.702391</td>\n",
       "      <td>0.680977</td>\n",
       "      <td>0.579843</td>\n",
       "      <td>0.459144</td>\n",
       "      <td>0.601163</td>\n",
       "      <td>0.378240</td>\n",
       "      <td>0.355542</td>\n",
       "    </tr>\n",
       "    <tr>\n",
       "      <th>average_precision</th>\n",
       "      <td>0.702707</td>\n",
       "      <td>0.716262</td>\n",
       "      <td>0.697717</td>\n",
       "      <td>0.702673</td>\n",
       "      <td>0.677257</td>\n",
       "      <td>0.376784</td>\n",
       "      <td>0.460560</td>\n",
       "      <td>0.601768</td>\n",
       "      <td>0.379539</td>\n",
       "      <td>0.312952</td>\n",
       "    </tr>\n",
       "  </tbody>\n",
       "</table>\n",
       "</div>"
      ],
      "text/plain": [
       "                      HistGradientBoostingClassifier  CatBoostClassifier  \\\n",
       "thresholds                                  0.359707            0.377792   \n",
       "precision                                   0.666667            0.695067   \n",
       "recall                                      0.609037            0.609037   \n",
       "f_score                                     0.636550            0.649215   \n",
       "auc_precision_recall                        0.702436            0.715994   \n",
       "average_precision                           0.702707            0.716262   \n",
       "\n",
       "                      XGBRFClassifier  LGBMClassifier  RandomForestClassifier  \\\n",
       "thresholds                   0.297498        0.300170                0.380000   \n",
       "precision                    0.616981        0.624762                0.687927   \n",
       "recall                       0.642436        0.644401                0.593320   \n",
       "f_score                      0.629451        0.634429                0.637131   \n",
       "auc_precision_recall         0.697524        0.702391                0.680977   \n",
       "average_precision            0.697717        0.702673                0.677257   \n",
       "\n",
       "                      DecisionTreeClassifier  LogisticRegression       SVC  \\\n",
       "thresholds                          1.000000            0.260801  0.182361   \n",
       "precision                           0.519553            0.441088  0.496997   \n",
       "recall                              0.548134            0.573674  0.650295   \n",
       "f_score                             0.533461            0.498719  0.563404   \n",
       "auc_precision_recall                0.579843            0.459144  0.601163   \n",
       "average_precision                   0.376784            0.460560  0.601768   \n",
       "\n",
       "                      GaussianNB  KNeighborsClassifier  \n",
       "thresholds              0.231820              0.200000  \n",
       "precision               0.428571              0.280395  \n",
       "recall                  0.583497              0.724951  \n",
       "f_score                 0.494176              0.404384  \n",
       "auc_precision_recall    0.378240              0.355542  \n",
       "average_precision       0.379539              0.312952  "
      ]
     },
     "execution_count": 32,
     "metadata": {},
     "output_type": "execute_result"
    }
   ],
   "source": [
    "metrics_df = pd.DataFrame(hist.values(), index=hist.keys(), columns=['HistGradientBoostingClassifier'])\n",
    "metrics_df.insert(loc=len(metrics_df.columns), column='CatBoostClassifier', value=cat.values())\n",
    "metrics_df.insert(loc=len(metrics_df.columns), column='XGBRFClassifier', value=xgbd.values())\n",
    "metrics_df.insert(loc=len(metrics_df.columns), column='LGBMClassifier', value=lgbm.values())\n",
    "metrics_df.insert(loc=len(metrics_df.columns), column='RandomForestClassifier', value=rf.values())\n",
    "metrics_df.insert(loc=len(metrics_df.columns), column='DecisionTreeClassifier', value=tree.values())\n",
    "metrics_df.insert(loc=len(metrics_df.columns), column='LogisticRegression', value=log.values())\n",
    "metrics_df.insert(loc=len(metrics_df.columns), column='SVC', value=svm.values())\n",
    "metrics_df.insert(loc=len(metrics_df.columns), column='GaussianNB', value=bayas.values())\n",
    "metrics_df.insert(loc=len(metrics_df.columns), column='KNeighborsClassifier', value=neigbors.values())\n",
    "metrics_df"
   ]
  },
  {
   "cell_type": "markdown",
   "id": "b18598a6",
   "metadata": {},
   "source": [
    "По умолчянию более точной моделью по метрике PR auc оказалась модель градиентного бустинга CatBoostClassifier. Далее подберем для нее гиперпараметры"
   ]
  },
  {
   "cell_type": "markdown",
   "id": "227a951e",
   "metadata": {},
   "source": [
    "#### Оценку экономической эффективности"
   ]
  },
  {
   "cell_type": "code",
   "execution_count": 80,
   "id": "3352b2aa",
   "metadata": {},
   "outputs": [],
   "source": [
    "def bussines_metrics(cnf_matrix):\n",
    "    TP = cnf_matrix[0][0]\n",
    "    TN = cnf_matrix[1][1]\n",
    "    \n",
    "    FN = cnf_matrix[0][1]\n",
    "    FP = cnf_matrix[1][0]\n",
    "      \n",
    "    money = TP*2 + TN*1+ FN*2\n",
    "    return money\n",
    "   "
   ]
  },
  {
   "cell_type": "markdown",
   "id": "4169a59f",
   "metadata": {},
   "source": [
    "### Лучшая модель по умолчанию и ее бизнес метрика"
   ]
  },
  {
   "cell_type": "code",
   "execution_count": 49,
   "id": "30484018",
   "metadata": {},
   "outputs": [],
   "source": [
    "score, preds = model_train(feature=feature_tree, Classifier=CatBoostClassifier(random_state=42, silent=True))\n",
    "cat = metrics(y_test, preds, score)"
   ]
  },
  {
   "cell_type": "code",
   "execution_count": 82,
   "id": "87b66a50",
   "metadata": {},
   "outputs": [
    {
     "name": "stdout",
     "output_type": "stream",
     "text": [
      "Confusion matrix, without normalization\n",
      "[[1859  132]\n",
      " [ 209  300]]\n"
     ]
    },
    {
     "data": {
      "image/png": "[encoded data removed]",
      "text/plain": [
       "<Figure size 500x500 with 2 Axes>"
      ]
     },
     "metadata": {},
     "output_type": "display_data"
    }
   ],
   "source": [
    "font = {'size' : 10}\n",
    "\n",
    "plt.rc('font', **font)\n",
    "\n",
    "cnf_matrix = confusion_matrix(y_test, score>cat['thresholds'])\n",
    "plt.figure(figsize=(5, 5))\n",
    "plot_confusion_matrix(cnf_matrix, classes=['NonChurn', 'Churn'],\n",
    "                      title='Confusion matrix')\n",
    "plt.savefig(\"conf_matrix.png\")\n",
    "plt.show()"
   ]
  },
  {
   "cell_type": "code",
   "execution_count": 83,
   "id": "e9348e46",
   "metadata": {},
   "outputs": [
    {
     "name": "stdout",
     "output_type": "stream",
     "text": [
      "Прибыль при использовании CatBoostClassifier по умолчанию $ - 4282\n"
     ]
    }
   ],
   "source": [
    "money_cat_1 = bussines_metrics(cnf_matrix)\n",
    "print(f'Прибыль при использовании CatBoostClassifier по умолчанию $ - {money_cat_1}')"
   ]
  },
  {
   "cell_type": "markdown",
   "id": "18f6f49a",
   "metadata": {},
   "source": [
    "### Подбор параметров для модели CatBoostClassifier "
   ]
  },
  {
   "cell_type": "code",
   "execution_count": 418,
   "id": "d7f01332",
   "metadata": {},
   "outputs": [],
   "source": [
    "params = { \n",
    "          'max_depth': list(range(3,9,1)),\n",
    "          'n_estimators': list(range(1500,1800,20)),\n",
    "         }\n",
    "\n",
    "cat = CatBoostClassifier(silent=True, random_state=42)\n",
    "cv=KFold(n_splits=3, random_state=21, shuffle=True)"
   ]
  },
  {
   "cell_type": "code",
   "execution_count": 365,
   "id": "f9c72a4f",
   "metadata": {},
   "outputs": [],
   "source": [
    "pipeline_for_cat = Pipeline([\n",
    "    ('features', feature_tree)])\n",
    "X_matrix_train = pipeline_for_cat.fit_transform(X_train)"
   ]
  },
  {
   "cell_type": "code",
   "execution_count": 372,
   "id": "44214e10",
   "metadata": {},
   "outputs": [
    {
     "name": "stdout",
     "output_type": "stream",
     "text": [
      "CPU times: total: 33.6 s\n",
      "Wall time: 1min 47s\n"
     ]
    },
    {
     "data": {
      "text/html": [
       "<style>#sk-container-id-28 {color: black;}#sk-container-id-28 pre{padding: 0;}#sk-container-id-28 div.sk-toggleable {background-color: white;}#sk-container-id-28 label.sk-toggleable__label {cursor: pointer;display: block;width: 100%;margin-bottom: 0;padding: 0.3em;box-sizing: border-box;text-align: center;}#sk-container-id-28 label.sk-toggleable__label-arrow:before {content: \"▸\";float: left;margin-right: 0.25em;color: #696969;}#sk-container-id-28 label.sk-toggleable__label-arrow:hover:before {color: black;}#sk-container-id-28 div.sk-estimator:hover label.sk-toggleable__label-arrow:before {color: black;}#sk-container-id-28 div.sk-toggleable__content {max-height: 0;max-width: 0;overflow: hidden;text-align: left;background-color: #f0f8ff;}#sk-container-id-28 div.sk-toggleable__content pre {margin: 0.2em;color: black;border-radius: 0.25em;background-color: #f0f8ff;}#sk-container-id-28 input.sk-toggleable__control:checked~div.sk-toggleable__content {max-height: 200px;max-width: 100%;overflow: auto;}#sk-container-id-28 input.sk-toggleable__control:checked~label.sk-toggleable__label-arrow:before {content: \"▾\";}#sk-container-id-28 div.sk-estimator input.sk-toggleable__control:checked~label.sk-toggleable__label {background-color: #d4ebff;}#sk-container-id-28 div.sk-label input.sk-toggleable__control:checked~label.sk-toggleable__label {background-color: #d4ebff;}#sk-container-id-28 input.sk-hidden--visually {border: 0;clip: rect(1px 1px 1px 1px);clip: rect(1px, 1px, 1px, 1px);height: 1px;margin: -1px;overflow: hidden;padding: 0;position: absolute;width: 1px;}#sk-container-id-28 div.sk-estimator {font-family: monospace;background-color: #f0f8ff;border: 1px dotted black;border-radius: 0.25em;box-sizing: border-box;margin-bottom: 0.5em;}#sk-container-id-28 div.sk-estimator:hover {background-color: #d4ebff;}#sk-container-id-28 div.sk-parallel-item::after {content: \"\";width: 100%;border-bottom: 1px solid gray;flex-grow: 1;}#sk-container-id-28 div.sk-label:hover label.sk-toggleable__label {background-color: #d4ebff;}#sk-container-id-28 div.sk-serial::before {content: \"\";position: absolute;border-left: 1px solid gray;box-sizing: border-box;top: 0;bottom: 0;left: 50%;z-index: 0;}#sk-container-id-28 div.sk-serial {display: flex;flex-direction: column;align-items: center;background-color: white;padding-right: 0.2em;padding-left: 0.2em;position: relative;}#sk-container-id-28 div.sk-item {position: relative;z-index: 1;}#sk-container-id-28 div.sk-parallel {display: flex;align-items: stretch;justify-content: center;background-color: white;position: relative;}#sk-container-id-28 div.sk-item::before, #sk-container-id-28 div.sk-parallel-item::before {content: \"\";position: absolute;border-left: 1px solid gray;box-sizing: border-box;top: 0;bottom: 0;left: 50%;z-index: -1;}#sk-container-id-28 div.sk-parallel-item {display: flex;flex-direction: column;z-index: 1;position: relative;background-color: white;}#sk-container-id-28 div.sk-parallel-item:first-child::after {align-self: flex-end;width: 50%;}#sk-container-id-28 div.sk-parallel-item:last-child::after {align-self: flex-start;width: 50%;}#sk-container-id-28 div.sk-parallel-item:only-child::after {width: 0;}#sk-container-id-28 div.sk-dashed-wrapped {border: 1px dashed gray;margin: 0 0.4em 0.5em 0.4em;box-sizing: border-box;padding-bottom: 0.4em;background-color: white;}#sk-container-id-28 div.sk-label label {font-family: monospace;font-weight: bold;display: inline-block;line-height: 1.2em;}#sk-container-id-28 div.sk-label-container {text-align: center;}#sk-container-id-28 div.sk-container {/* jupyter's `normalize.less` sets `[hidden] { display: none; }` but bootstrap.min.css set `[hidden] { display: none !important; }` so we also need the `!important` here to be able to override the default hidden behavior on the sphinx rendered scikit-learn.org. See: https://github.com/scikit-learn/scikit-learn/issues/21755 */display: inline-block !important;position: relative;}#sk-container-id-28 div.sk-text-repr-fallback {display: none;}</style><div id=\"sk-container-id-28\" class=\"sk-top-container\"><div class=\"sk-text-repr-fallback\"><pre>RandomizedSearchCV(cv=KFold(n_splits=3, random_state=21, shuffle=True),\n",
       "                   estimator=&lt;catboost.core.CatBoostClassifier object at 0x0000022115922CD0&gt;,\n",
       "                   n_jobs=-1,\n",
       "                   param_distributions={&#x27;max_depth&#x27;: [3, 4, 5, 6, 7, 8],\n",
       "                                        &#x27;n_estimators&#x27;: [1500, 1520, 1540, 1560,\n",
       "                                                         1580, 1600, 1620, 1640,\n",
       "                                                         1660, 1680, 1700, 1720,\n",
       "                                                         1740, 1760, 1780]},\n",
       "                   scoring=&#x27;average_precision&#x27;)</pre><b>In a Jupyter environment, please rerun this cell to show the HTML representation or trust the notebook. <br />On GitHub, the HTML representation is unable to render, please try loading this page with nbviewer.org.</b></div><div class=\"sk-container\" hidden><div class=\"sk-item sk-dashed-wrapped\"><div class=\"sk-label-container\"><div class=\"sk-label sk-toggleable\"><input class=\"sk-toggleable__control sk-hidden--visually\" id=\"sk-estimator-id-1246\" type=\"checkbox\" ><label for=\"sk-estimator-id-1246\" class=\"sk-toggleable__label sk-toggleable__label-arrow\">RandomizedSearchCV</label><div class=\"sk-toggleable__content\"><pre>RandomizedSearchCV(cv=KFold(n_splits=3, random_state=21, shuffle=True),\n",
       "                   estimator=&lt;catboost.core.CatBoostClassifier object at 0x0000022115922CD0&gt;,\n",
       "                   n_jobs=-1,\n",
       "                   param_distributions={&#x27;max_depth&#x27;: [3, 4, 5, 6, 7, 8],\n",
       "                                        &#x27;n_estimators&#x27;: [1500, 1520, 1540, 1560,\n",
       "                                                         1580, 1600, 1620, 1640,\n",
       "                                                         1660, 1680, 1700, 1720,\n",
       "                                                         1740, 1760, 1780]},\n",
       "                   scoring=&#x27;average_precision&#x27;)</pre></div></div></div><div class=\"sk-parallel\"><div class=\"sk-parallel-item\"><div class=\"sk-item\"><div class=\"sk-label-container\"><div class=\"sk-label sk-toggleable\"><input class=\"sk-toggleable__control sk-hidden--visually\" id=\"sk-estimator-id-1247\" type=\"checkbox\" ><label for=\"sk-estimator-id-1247\" class=\"sk-toggleable__label sk-toggleable__label-arrow\">estimator: CatBoostClassifier</label><div class=\"sk-toggleable__content\"><pre>&lt;catboost.core.CatBoostClassifier object at 0x0000022115922CD0&gt;</pre></div></div></div><div class=\"sk-serial\"><div class=\"sk-item\"><div class=\"sk-estimator sk-toggleable\"><input class=\"sk-toggleable__control sk-hidden--visually\" id=\"sk-estimator-id-1248\" type=\"checkbox\" ><label for=\"sk-estimator-id-1248\" class=\"sk-toggleable__label sk-toggleable__label-arrow\">CatBoostClassifier</label><div class=\"sk-toggleable__content\"><pre>&lt;catboost.core.CatBoostClassifier object at 0x0000022115922CD0&gt;</pre></div></div></div></div></div></div></div></div></div></div>"
      ],
      "text/plain": [
       "RandomizedSearchCV(cv=KFold(n_splits=3, random_state=21, shuffle=True),\n",
       "                   estimator=<catboost.core.CatBoostClassifier object at 0x0000022115922CD0>,\n",
       "                   n_jobs=-1,\n",
       "                   param_distributions={'max_depth': [3, 4, 5, 6, 7, 8],\n",
       "                                        'n_estimators': [1500, 1520, 1540, 1560,\n",
       "                                                         1580, 1600, 1620, 1640,\n",
       "                                                         1660, 1680, 1700, 1720,\n",
       "                                                         1740, 1760, 1780]},\n",
       "                   scoring='average_precision')"
      ]
     },
     "execution_count": 372,
     "metadata": {},
     "output_type": "execute_result"
    }
   ],
   "source": [
    "%%time\n",
    "grid = RandomizedSearchCV(cat, params, scoring='average_precision', cv=cv, n_jobs=-1)\n",
    "grid.fit(X_matrix_train, y_train)"
   ]
  },
  {
   "cell_type": "code",
   "execution_count": 373,
   "id": "221bcc8e",
   "metadata": {
    "scrolled": true
   },
   "outputs": [
    {
     "data": {
      "text/plain": [
       "{'n_estimators': 1500, 'max_depth': 4}"
      ]
     },
     "execution_count": 373,
     "metadata": {},
     "output_type": "execute_result"
    }
   ],
   "source": [
    "grid.best_params_"
   ]
  },
  {
   "cell_type": "code",
   "execution_count": 374,
   "id": "bbfb42e2",
   "metadata": {},
   "outputs": [
    {
     "data": {
      "text/plain": [
       "0.7066575699227563"
      ]
     },
     "execution_count": 374,
     "metadata": {},
     "output_type": "execute_result"
    }
   ],
   "source": [
    "grid.best_score_"
   ]
  },
  {
   "cell_type": "code",
   "execution_count": 55,
   "id": "e45abae6",
   "metadata": {},
   "outputs": [
    {
     "data": {
      "image/png": "[encoded data removed]",
      "text/plain": [
       "<Figure size 640x480 with 1 Axes>"
      ]
     },
     "metadata": {},
     "output_type": "display_data"
    }
   ],
   "source": [
    "from sklearn.metrics import PrecisionRecallDisplay\n",
    "\n",
    "cat_pf = Pipeline([\n",
    "        ('features', feature_tree),\n",
    "        ('classifier', CatBoostClassifier(silent=True,  random_state=42, max_depth = 4,n_estimators =1500)),\n",
    "    ])\n",
    "cat_pf.fit(X_train, y_train)\n",
    "\n",
    "display = PrecisionRecallDisplay.from_estimator(cat_pf, X_test, y_test, name=\"CatBoostClassifier\", plot_chance_level=True\n",
    ")\n",
    "_ = display.ax_.set_title(\"2-class Precision-Recall curve\")"
   ]
  },
  {
   "cell_type": "markdown",
   "id": "af42327f",
   "metadata": {},
   "source": [
    "Для отобранной модели (на отложенной выборке) сделать оценку экономической эффективности при тех же вводных, как в вопросе 2 (1 доллар на привлечение, 2 доллара - с каждого правильно классифицированного (True Positive) удержанного). (подсказка) нужно посчитать FP/TP/FN/TN для выбранного оптимального порога вероятности и посчитать выручку и траты. "
   ]
  },
  {
   "cell_type": "code",
   "execution_count": 84,
   "id": "61d903d3",
   "metadata": {},
   "outputs": [
    {
     "data": {
      "text/plain": [
       "{'thresholds': 0.31030425752985313,\n",
       " 'precision': 0.6520076481835564,\n",
       " 'recall': 0.6699410609037328,\n",
       " 'f_score': 0.6608527131782946,\n",
       " 'auc_precision_recall': 0.7220502099212183,\n",
       " 'average_precision': 0.7223084359511937}"
      ]
     },
     "execution_count": 84,
     "metadata": {},
     "output_type": "execute_result"
    }
   ],
   "source": [
    "preds = cat_pf.predict(X_test)\n",
    "score = cat_pf.predict_proba(X_test)[:, 1]\n",
    "cat_f = metrics(y_test, preds, score)\n",
    "cat_f"
   ]
  },
  {
   "cell_type": "code",
   "execution_count": 85,
   "id": "30f15850",
   "metadata": {},
   "outputs": [
    {
     "name": "stdout",
     "output_type": "stream",
     "text": [
      "Confusion matrix, without normalization\n",
      "[[1809  182]\n",
      " [ 169  340]]\n"
     ]
    },
    {
     "data": {
      "image/png": "[encoded data removed]",
      "text/plain": [
       "<Figure size 500x500 with 2 Axes>"
      ]
     },
     "metadata": {},
     "output_type": "display_data"
    }
   ],
   "source": [
    "font = {'size' : 10}\n",
    "\n",
    "plt.rc('font', **font)\n",
    "\n",
    "cnf_matrix = confusion_matrix(y_test, score>cat_f['thresholds'])\n",
    "plt.figure(figsize=(5, 5))\n",
    "plot_confusion_matrix(cnf_matrix, classes=['NonChurn', 'Churn'],\n",
    "                      title='Confusion matrix')\n",
    "plt.savefig(\"conf_matrix.png\")\n",
    "plt.show()"
   ]
  },
  {
   "cell_type": "code",
   "execution_count": 86,
   "id": "fbd8bd82",
   "metadata": {
    "scrolled": true
   },
   "outputs": [
    {
     "name": "stdout",
     "output_type": "stream",
     "text": [
      "Прибыль при использовании CatBoostClassifier по c подобранными гиперпараметрами $ - 4322\n"
     ]
    }
   ],
   "source": [
    "money_cat_2 = bussines_metrics(cnf_matrix)\n",
    "\n",
    "print(f'Прибыль при использовании CatBoostClassifier по c подобранными гиперпараметрами $ - {money_cat_2}')"
   ]
  },
  {
   "cell_type": "code",
   "execution_count": 87,
   "id": "51f20b03",
   "metadata": {},
   "outputs": [
    {
     "name": "stdout",
     "output_type": "stream",
     "text": [
      "Прибыль при использовании идеальной модели $ - 4491\n"
     ]
    }
   ],
   "source": [
    "money_perf_model = y_test.value_counts()[0]*2+y_test.value_counts()[1]*1\n",
    "print(f'Прибыль при использовании идеальной модели $ - {money_perf_model}')"
   ]
  },
  {
   "cell_type": "code",
   "execution_count": 88,
   "id": "83f00f47",
   "metadata": {},
   "outputs": [
    {
     "name": "stdout",
     "output_type": "stream",
     "text": [
      "Оптимизированая модель зарабатывает на 40 $ больше \n"
     ]
    }
   ],
   "source": [
    "print(f'Оптимизированая модель зарабатывает на {money_cat_2 - money_cat_1} $ больше ')"
   ]
  },
  {
   "cell_type": "code",
   "execution_count": 89,
   "id": "95b80b8c",
   "metadata": {},
   "outputs": [
    {
     "name": "stdout",
     "output_type": "stream",
     "text": [
      "Оптимизированая модель не способна дозаработать $ 169 по сравнению с идеальной  \n"
     ]
    }
   ],
   "source": [
    "print(f'Оптимизированая модель не способна дозаработать $ {money_perf_model - money_cat_2} по сравнению с идеальной  ')\n"
   ]
  },
  {
   "cell_type": "code",
   "execution_count": 90,
   "id": "5efb1ff9",
   "metadata": {},
   "outputs": [
    {
     "name": "stdout",
     "output_type": "stream",
     "text": [
      "Эконмическое кпд модели % - \n"
     ]
    },
    {
     "data": {
      "text/plain": [
       "96.24"
      ]
     },
     "execution_count": 90,
     "metadata": {},
     "output_type": "execute_result"
    }
   ],
   "source": [
    "print('Эконмическое кпд модели % - ')\n",
    "round(money_cat_2*100/money_perf_model,2)"
   ]
  }
 ],
 "metadata": {
  "kernelspec": {
   "display_name": "Python 3 (ipykernel)",
   "language": "python",
   "name": "python3"
  },
  "language_info": {
   "codemirror_mode": {
    "name": "ipython",
    "version": 3
   },
   "file_extension": ".py",
   "mimetype": "text/x-python",
   "name": "python",
   "nbconvert_exporter": "python",
   "pygments_lexer": "ipython3",
   "version": "3.11.4"
  }
 },
 "nbformat": 4,
 "nbformat_minor": 5
}

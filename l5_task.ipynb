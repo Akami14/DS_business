{
 "cells": [
  {
   "cell_type": "code",
   "execution_count": 223,
   "id": "2c043865",
   "metadata": {},
   "outputs": [],
   "source": [
    "import pandas as pd\n",
    "import numpy as np\n",
    "\n",
    "from sklearn.model_selection import train_test_split\n",
    "#from sklearn.feature_extraction.text import TfidfVectorizer\n",
    "import itertools\n",
    "\n",
    "import matplotlib.pyplot as plt\n",
    "\n",
    "from sklearn.pipeline import Pipeline, make_pipeline\n",
    "from sklearn.base import BaseEstimator, TransformerMixin\n",
    "from sklearn.pipeline import Pipeline\n",
    "from sklearn.pipeline import FeatureUnion\n",
    "\n",
    "from sklearn.ensemble import RandomForestClassifier\n",
    "from catboost import CatBoostClassifier\n",
    "from sklearn.ensemble import HistGradientBoostingClassifier\n",
    "from xgboost import XGBRFClassifier\n",
    "from lightgbm import LGBMClassifier\n",
    "from sklearn.tree import DecisionTreeClassifier\n",
    "from sklearn.svm import SVC\n",
    "from sklearn.linear_model import LogisticRegression\n",
    "from sklearn.naive_bayes import GaussianNB\n",
    "from sklearn.neighbors import KNeighborsClassifier\n",
    "\n",
    "from sklearn.preprocessing import StandardScaler, MinMaxScaler\n",
    "from sklearn.model_selection import GridSearchCV, RandomizedSearchCV, KFold\n",
    "%matplotlib inline\n",
    "\n",
    "from sklearn.metrics import f1_score, roc_auc_score, precision_score, \\\n",
    "classification_report, precision_recall_curve, confusion_matrix, auc, average_precision_score"
   ]
  },
  {
   "cell_type": "markdown",
   "id": "df8da8ad",
   "metadata": {},
   "source": [
    "1. Для нашего пайплайна (Case1) поэкспериментировать с разными моделями: 1 - бустинг, 2 - логистическая регрессия (не забудьте здесь добавить в cont_transformer стандартизацию - нормирование вещественных признаков)\n",
    "2. Отобрать лучшую модель по метрикам (кстати, какая по вашему мнению здесь наиболее подходящая DS-метрика)\n",
    "3. Для отобранной модели (на отложенной выборке) сделать оценку экономической эффективности при тех же вводных, как в вопросе 2 (1 доллар на привлечение, 2 доллара - с каждого правильно классифицированного (True Positive) удержанного). (подсказка) нужно посчитать FP/TP/FN/TN для выбранного оптимального порога вероятности и посчитать выручку и траты. \n",
    "4. (опционально) Провести подбор гиперпараметров лучшей модели по итогам 2-3\n",
    "5. (опционально) Еще раз провести оценку экономической эффективности"
   ]
  },
  {
   "cell_type": "code",
   "execution_count": 152,
   "id": "b8ea8140",
   "metadata": {
    "scrolled": false
   },
   "outputs": [
    {
     "data": {
      "text/html": [
       "<div>\n",
       "<style scoped>\n",
       "    .dataframe tbody tr th:only-of-type {\n",
       "        vertical-align: middle;\n",
       "    }\n",
       "\n",
       "    .dataframe tbody tr th {\n",
       "        vertical-align: top;\n",
       "    }\n",
       "\n",
       "    .dataframe thead th {\n",
       "        text-align: right;\n",
       "    }\n",
       "</style>\n",
       "<table border=\"1\" class=\"dataframe\">\n",
       "  <thead>\n",
       "    <tr style=\"text-align: right;\">\n",
       "      <th></th>\n",
       "      <th>RowNumber</th>\n",
       "      <th>CustomerId</th>\n",
       "      <th>Surname</th>\n",
       "      <th>CreditScore</th>\n",
       "      <th>Geography</th>\n",
       "      <th>Gender</th>\n",
       "      <th>Age</th>\n",
       "      <th>Tenure</th>\n",
       "      <th>Balance</th>\n",
       "      <th>NumOfProducts</th>\n",
       "      <th>HasCrCard</th>\n",
       "      <th>IsActiveMember</th>\n",
       "      <th>EstimatedSalary</th>\n",
       "      <th>Exited</th>\n",
       "    </tr>\n",
       "  </thead>\n",
       "  <tbody>\n",
       "    <tr>\n",
       "      <th>0</th>\n",
       "      <td>1</td>\n",
       "      <td>15634602</td>\n",
       "      <td>Hargrave</td>\n",
       "      <td>619</td>\n",
       "      <td>France</td>\n",
       "      <td>Female</td>\n",
       "      <td>42</td>\n",
       "      <td>2</td>\n",
       "      <td>0.00</td>\n",
       "      <td>1</td>\n",
       "      <td>1</td>\n",
       "      <td>1</td>\n",
       "      <td>101348.88</td>\n",
       "      <td>1</td>\n",
       "    </tr>\n",
       "    <tr>\n",
       "      <th>1</th>\n",
       "      <td>2</td>\n",
       "      <td>15647311</td>\n",
       "      <td>Hill</td>\n",
       "      <td>608</td>\n",
       "      <td>Spain</td>\n",
       "      <td>Female</td>\n",
       "      <td>41</td>\n",
       "      <td>1</td>\n",
       "      <td>83807.86</td>\n",
       "      <td>1</td>\n",
       "      <td>0</td>\n",
       "      <td>1</td>\n",
       "      <td>112542.58</td>\n",
       "      <td>0</td>\n",
       "    </tr>\n",
       "    <tr>\n",
       "      <th>2</th>\n",
       "      <td>3</td>\n",
       "      <td>15619304</td>\n",
       "      <td>Onio</td>\n",
       "      <td>502</td>\n",
       "      <td>France</td>\n",
       "      <td>Female</td>\n",
       "      <td>42</td>\n",
       "      <td>8</td>\n",
       "      <td>159660.80</td>\n",
       "      <td>3</td>\n",
       "      <td>1</td>\n",
       "      <td>0</td>\n",
       "      <td>113931.57</td>\n",
       "      <td>1</td>\n",
       "    </tr>\n",
       "  </tbody>\n",
       "</table>\n",
       "</div>"
      ],
      "text/plain": [
       "   RowNumber  CustomerId   Surname  CreditScore Geography  Gender  Age  \\\n",
       "0          1    15634602  Hargrave          619    France  Female   42   \n",
       "1          2    15647311      Hill          608     Spain  Female   41   \n",
       "2          3    15619304      Onio          502    France  Female   42   \n",
       "\n",
       "   Tenure    Balance  NumOfProducts  HasCrCard  IsActiveMember  \\\n",
       "0       2       0.00              1          1               1   \n",
       "1       1   83807.86              1          0               1   \n",
       "2       8  159660.80              3          1               0   \n",
       "\n",
       "   EstimatedSalary  Exited  \n",
       "0        101348.88       1  \n",
       "1        112542.58       0  \n",
       "2        113931.57       1  "
      ]
     },
     "execution_count": 152,
     "metadata": {},
     "output_type": "execute_result"
    }
   ],
   "source": [
    "df = pd.read_csv(\"churn_data.csv\")\n",
    "df.head(3)"
   ]
  },
  {
   "cell_type": "code",
   "execution_count": 153,
   "id": "0fa45087",
   "metadata": {},
   "outputs": [
    {
     "data": {
      "text/plain": [
       "0    79.63\n",
       "1    20.37\n",
       "Name: Exited, dtype: float64"
      ]
     },
     "execution_count": 153,
     "metadata": {},
     "output_type": "execute_result"
    }
   ],
   "source": [
    "df['Exited'].value_counts()/df.shape[0]*100"
   ]
  },
  {
   "cell_type": "code",
   "execution_count": 154,
   "id": "d3c4ab3f",
   "metadata": {},
   "outputs": [],
   "source": [
    "#соберем наш простой pipeline, но нам понадобится написать класс для выбора нужного поля\n",
    "class FeatureSelector(BaseEstimator, TransformerMixin):\n",
    "    def __init__(self, column):\n",
    "        self.column = column\n",
    "\n",
    "    def fit(self, X, y=None):\n",
    "        return self\n",
    "\n",
    "    def transform(self, X, y=None):\n",
    "        return X[self.column]\n",
    "    \n",
    "class NumberSelector(BaseEstimator, TransformerMixin):\n",
    "    \"\"\"\n",
    "    Transformer to select a single column from the data frame to perform additional transformations on\n",
    "    Use on numeric columns in the data\n",
    "    \"\"\"\n",
    "    def __init__(self, key):\n",
    "        self.key = key\n",
    "\n",
    "    def fit(self, X, y=None):\n",
    "        return self\n",
    "\n",
    "    def transform(self, X):\n",
    "        return X[[self.key]]\n",
    "    \n",
    "class OHEEncoder(BaseEstimator, TransformerMixin):\n",
    "    def __init__(self, key):\n",
    "        self.key = key\n",
    "        self.columns = []\n",
    "\n",
    "    def fit(self, X, y=None):\n",
    "        self.columns = [col for col in pd.get_dummies(X, prefix=self.key).columns]\n",
    "        return self\n",
    "\n",
    "    def transform(self, X):\n",
    "        X = pd.get_dummies(X, prefix=self.key)\n",
    "        test_columns = [col for col in X.columns]\n",
    "        for col_ in self.columns:\n",
    "            if col_ not in test_columns:\n",
    "                X[col_] = 0\n",
    "        return X[self.columns]"
   ]
  },
  {
   "cell_type": "code",
   "execution_count": 155,
   "id": "432d639c",
   "metadata": {},
   "outputs": [],
   "source": [
    "#разделим данные на train/test\n",
    "X_train, X_test, y_train, y_test = train_test_split(df, df['Exited'], stratify=df['Exited'], random_state=99)"
   ]
  },
  {
   "cell_type": "markdown",
   "id": "847b2c4b",
   "metadata": {},
   "source": [
    "### Фунция собирающая пайпалайн"
   ]
  },
  {
   "cell_type": "code",
   "execution_count": 156,
   "id": "d3d5eca7",
   "metadata": {},
   "outputs": [],
   "source": [
    "def pipline_prepare(model_status='tree', categorical_columns=categorical_columns, continuous_columns=continuous_columns):\n",
    "    final_transformers = []\n",
    " \n",
    "    # собираем пайплайн для категориальных признаков который выберает признак и декодирует его\n",
    "    for cat_col in categorical_columns:\n",
    "        cat_transformer = Pipeline([\n",
    "                    ('selector', FeatureSelector(column=cat_col)),\n",
    "                    ('ohe', OHEEncoder(key=cat_col))])\n",
    "        final_transformers.append((cat_col, cat_transformer))\n",
    "        \n",
    "   \n",
    "    for cont_col in continuous_columns:\n",
    "        if model_status == 'tree':\n",
    "            cont_transformer = Pipeline([\n",
    "                        ('selector', NumberSelector(key=cont_col))])\n",
    "            final_transformers.append((cont_col, cont_transformer))\n",
    "        elif model_status == 'lineral':\n",
    "            cont_transformer = Pipeline([\n",
    "                        ('selector', NumberSelector(key=cont_col)),\n",
    "                ('standartization', StandardScaler())])\n",
    "            final_transformers.append((cont_col, cont_transformer))\n",
    "        elif model_status == 'vectors':\n",
    "            cont_transformer = Pipeline([\n",
    "                        ('selector', NumberSelector(key=cont_col)),\n",
    "                    ('minmax', MinMaxScaler())])\n",
    "            final_transformers.append((cont_col, cont_transformer))\n",
    "            \n",
    "            \n",
    "        \n",
    "        \n",
    "    # обьединяем трансформаторы кактегориальных и числовых признаков\n",
    "    feats = FeatureUnion(final_transformers)\n",
    "    feature_processing = Pipeline([('feats', feats)])\n",
    "\n",
    "    return feats"
   ]
  },
  {
   "cell_type": "markdown",
   "id": "789eff93",
   "metadata": {},
   "source": [
    "### Сборка пайплайнов в зависимости от природы ML модели"
   ]
  },
  {
   "cell_type": "code",
   "execution_count": 157,
   "id": "b129cf36",
   "metadata": {
    "scrolled": true
   },
   "outputs": [],
   "source": [
    "categorical_columns = ['Geography', 'Gender', 'Tenure', 'HasCrCard', 'IsActiveMember']\n",
    "continuous_columns = ['CreditScore', 'Age', 'Balance', 'NumOfProducts', 'EstimatedSalary']\n",
    "\n",
    "feature_tree = pipline_prepare()\n",
    "feature_vectors = pipline_prepare(model_status='vectors')\n",
    "feature_lineral = pipline_prepare(model_status='lineral')"
   ]
  },
  {
   "cell_type": "markdown",
   "id": "0d3c3d7e",
   "metadata": {},
   "source": [
    "### Словарь метрик для ML модели"
   ]
  },
  {
   "cell_type": "code",
   "execution_count": 178,
   "id": "a5ec881f",
   "metadata": {},
   "outputs": [],
   "source": [
    "def metrics(y_test, preds, score):\n",
    "    metric_dict = {}\n",
    "    precision, recall, thresholds = precision_recall_curve(y_test, score)\n",
    "    fscore = (2 * precision * recall) / (precision + recall)\n",
    "    # locate the index of the largest f score\n",
    "    ix = np.argmax(fscore)\n",
    "    metric_dict['thresholds'] = thresholds[ix]\n",
    "    metric_dict['precision'] = precision[ix]\n",
    "    metric_dict['recall'] = recall[ix]\n",
    "    metric_dict['f_score'] = fscore[ix]\n",
    "    metric_dict['auc_precision_recall'] = auc(recall, precision)\n",
    "    metric_dict['average_precision'] = average_precision_score(y_test, score)\n",
    "    return metric_dict\n"
   ]
  },
  {
   "cell_type": "markdown",
   "id": "ab6f28ee",
   "metadata": {},
   "source": [
    "### Pipline обучения модели"
   ]
  },
  {
   "cell_type": "code",
   "execution_count": 161,
   "id": "82f51118",
   "metadata": {},
   "outputs": [],
   "source": [
    "def model_train(feature, Classifier):\n",
    "    pipeline = Pipeline([\n",
    "        ('features', feature),\n",
    "        ('classifier', Classifier),\n",
    "    ])\n",
    "    pipeline.fit(X_train, y_train)\n",
    "    score = pipeline.predict_proba(X_test)[:, 1]\n",
    "    preds = pipeline.predict(X_test)\n",
    "    return score, preds\n",
    "    "
   ]
  },
  {
   "cell_type": "markdown",
   "id": "d9d68e44",
   "metadata": {},
   "source": [
    "## Модели и их метрики"
   ]
  },
  {
   "cell_type": "markdown",
   "id": "5b117591",
   "metadata": {},
   "source": [
    "### HistGradientBoostingClassifier"
   ]
  },
  {
   "cell_type": "code",
   "execution_count": 198,
   "id": "67f955c3",
   "metadata": {
    "scrolled": false
   },
   "outputs": [],
   "source": [
    "score, preds = model_train(feature_tree, HistGradientBoostingClassifier(random_state=42))\n",
    "hist = metrics(y_test, preds, score)"
   ]
  },
  {
   "cell_type": "markdown",
   "id": "9f34db49",
   "metadata": {},
   "source": [
    "### CatBoostClassifier"
   ]
  },
  {
   "cell_type": "code",
   "execution_count": 224,
   "id": "898f2aea",
   "metadata": {
    "scrolled": true
   },
   "outputs": [],
   "source": [
    "score, preds = model_train(feature=feature_tree, Classifier=CatBoostClassifier(random_state=42, silent=True))\n",
    "cat = metrics(y_test, preds, score)"
   ]
  },
  {
   "cell_type": "markdown",
   "id": "bb4e440a",
   "metadata": {},
   "source": [
    "### LGBMClassifier"
   ]
  },
  {
   "cell_type": "code",
   "execution_count": 201,
   "id": "fbd6e849",
   "metadata": {
    "scrolled": false
   },
   "outputs": [
    {
     "name": "stdout",
     "output_type": "stream",
     "text": [
      "[LightGBM] [Info] Number of positive: 1528, number of negative: 5972\n",
      "[LightGBM] [Warning] Auto-choosing col-wise multi-threading, the overhead of testing was 0.001245 seconds.\n",
      "You can set `force_col_wise=true` to remove the overhead.\n",
      "[LightGBM] [Info] Total Bins 874\n",
      "[LightGBM] [Info] Number of data points in the train set: 7500, number of used features: 25\n",
      "[LightGBM] [Info] [binary:BoostFromScore]: pavg=0.203733 -> initscore=-1.363122\n",
      "[LightGBM] [Info] Start training from score -1.363122\n"
     ]
    }
   ],
   "source": [
    "score, preds = model_train(feature=feature_tree, Classifier=LGBMClassifier(random_state=42) )\n",
    "lgbm = metrics(y_test, preds, score)"
   ]
  },
  {
   "cell_type": "markdown",
   "id": "848fb99a",
   "metadata": {},
   "source": [
    "### XGBRFClassifier"
   ]
  },
  {
   "cell_type": "code",
   "execution_count": 202,
   "id": "5154e365",
   "metadata": {},
   "outputs": [],
   "source": [
    "score, preds = model_train(feature=feature_tree, Classifier=XGBRFClassifier(random_state=42))\n",
    "xgbd = metrics(y_test, preds, score)"
   ]
  },
  {
   "cell_type": "markdown",
   "id": "5717a4cf",
   "metadata": {},
   "source": [
    "### Метод опорных векторов SVC"
   ]
  },
  {
   "cell_type": "code",
   "execution_count": 203,
   "id": "fef7a69f",
   "metadata": {},
   "outputs": [],
   "source": [
    "score, preds = model_train(feature=feature_vectors, Classifier=SVC(random_state=42, kernel='poly', probability=True))\n",
    "svm = metrics(y_test, preds, score)"
   ]
  },
  {
   "cell_type": "markdown",
   "id": "c5587255",
   "metadata": {},
   "source": [
    "### LogisticRegression"
   ]
  },
  {
   "cell_type": "code",
   "execution_count": 204,
   "id": "276ab824",
   "metadata": {
    "scrolled": true
   },
   "outputs": [],
   "source": [
    "score, preds = model_train(feature_lineral, LogisticRegression(random_state=42))\n",
    "log = metrics(y_test, preds, score)"
   ]
  },
  {
   "cell_type": "markdown",
   "id": "07d87c52",
   "metadata": {},
   "source": [
    "### RandomForestClassifier"
   ]
  },
  {
   "cell_type": "code",
   "execution_count": 205,
   "id": "2473c0d5",
   "metadata": {},
   "outputs": [],
   "source": [
    "score, preds = model_train(feature_tree, RandomForestClassifier(random_state=42))\n",
    "rf =  metrics(y_test, preds, score)"
   ]
  },
  {
   "cell_type": "markdown",
   "id": "38415c1b",
   "metadata": {},
   "source": [
    "### DecisionTreeClassifier"
   ]
  },
  {
   "cell_type": "code",
   "execution_count": 206,
   "id": "fef1caba",
   "metadata": {},
   "outputs": [],
   "source": [
    "score, preds = model_train(feature_tree, DecisionTreeClassifier(random_state=42))\n",
    "tree =  metrics(y_test, preds, score)"
   ]
  },
  {
   "cell_type": "markdown",
   "id": "d19526df",
   "metadata": {},
   "source": [
    "### GaussianNB"
   ]
  },
  {
   "cell_type": "code",
   "execution_count": 207,
   "id": "7a28aaca",
   "metadata": {},
   "outputs": [],
   "source": [
    "score, preds = model_train(feature_tree, GaussianNB())\n",
    "bayas =  metrics(y_test, preds, score)"
   ]
  },
  {
   "cell_type": "markdown",
   "id": "f68c242f",
   "metadata": {},
   "source": [
    "### KNeighborsClassifier"
   ]
  },
  {
   "cell_type": "code",
   "execution_count": 208,
   "id": "a0ad8024",
   "metadata": {},
   "outputs": [],
   "source": [
    "score, preds  = model_train(feature_vectors, KNeighborsClassifier())\n",
    "neigbors =  metrics(y_test, preds, score)"
   ]
  },
  {
   "cell_type": "markdown",
   "id": "89bdb239",
   "metadata": {},
   "source": []
  },
  {
   "cell_type": "code",
   "execution_count": 211,
   "id": "9b9e138f",
   "metadata": {},
   "outputs": [
    {
     "data": {
      "text/html": [
       "<div>\n",
       "<style scoped>\n",
       "    .dataframe tbody tr th:only-of-type {\n",
       "        vertical-align: middle;\n",
       "    }\n",
       "\n",
       "    .dataframe tbody tr th {\n",
       "        vertical-align: top;\n",
       "    }\n",
       "\n",
       "    .dataframe thead th {\n",
       "        text-align: right;\n",
       "    }\n",
       "</style>\n",
       "<table border=\"1\" class=\"dataframe\">\n",
       "  <thead>\n",
       "    <tr style=\"text-align: right;\">\n",
       "      <th></th>\n",
       "      <th>HistGradientBoostingClassifier</th>\n",
       "      <th>CatBoostClassifier</th>\n",
       "      <th>XGBRFClassifier</th>\n",
       "      <th>LGBMClassifier</th>\n",
       "      <th>RandomForestClassifier</th>\n",
       "      <th>DecisionTreeClassifier</th>\n",
       "      <th>LogisticRegression</th>\n",
       "      <th>SVC</th>\n",
       "      <th>GaussianNB</th>\n",
       "      <th>KNeighborsClassifier</th>\n",
       "    </tr>\n",
       "  </thead>\n",
       "  <tbody>\n",
       "    <tr>\n",
       "      <th>thresholds</th>\n",
       "      <td>0.359707</td>\n",
       "      <td>0.377792</td>\n",
       "      <td>0.297498</td>\n",
       "      <td>0.300170</td>\n",
       "      <td>0.380000</td>\n",
       "      <td>1.000000</td>\n",
       "      <td>0.260801</td>\n",
       "      <td>0.182361</td>\n",
       "      <td>0.231820</td>\n",
       "      <td>0.200000</td>\n",
       "    </tr>\n",
       "    <tr>\n",
       "      <th>precision</th>\n",
       "      <td>0.666667</td>\n",
       "      <td>0.695067</td>\n",
       "      <td>0.616981</td>\n",
       "      <td>0.624762</td>\n",
       "      <td>0.687927</td>\n",
       "      <td>0.519553</td>\n",
       "      <td>0.441088</td>\n",
       "      <td>0.496997</td>\n",
       "      <td>0.428571</td>\n",
       "      <td>0.280395</td>\n",
       "    </tr>\n",
       "    <tr>\n",
       "      <th>recall</th>\n",
       "      <td>0.609037</td>\n",
       "      <td>0.609037</td>\n",
       "      <td>0.642436</td>\n",
       "      <td>0.644401</td>\n",
       "      <td>0.593320</td>\n",
       "      <td>0.548134</td>\n",
       "      <td>0.573674</td>\n",
       "      <td>0.650295</td>\n",
       "      <td>0.583497</td>\n",
       "      <td>0.724951</td>\n",
       "    </tr>\n",
       "    <tr>\n",
       "      <th>f_score</th>\n",
       "      <td>0.636550</td>\n",
       "      <td>0.649215</td>\n",
       "      <td>0.629451</td>\n",
       "      <td>0.634429</td>\n",
       "      <td>0.637131</td>\n",
       "      <td>0.533461</td>\n",
       "      <td>0.498719</td>\n",
       "      <td>0.563404</td>\n",
       "      <td>0.494176</td>\n",
       "      <td>0.404384</td>\n",
       "    </tr>\n",
       "    <tr>\n",
       "      <th>auc_precision_recall</th>\n",
       "      <td>0.702436</td>\n",
       "      <td>0.715994</td>\n",
       "      <td>0.697524</td>\n",
       "      <td>0.702391</td>\n",
       "      <td>0.680977</td>\n",
       "      <td>0.579843</td>\n",
       "      <td>0.459144</td>\n",
       "      <td>0.601163</td>\n",
       "      <td>0.378240</td>\n",
       "      <td>0.355542</td>\n",
       "    </tr>\n",
       "    <tr>\n",
       "      <th>average_precision</th>\n",
       "      <td>0.702707</td>\n",
       "      <td>0.716262</td>\n",
       "      <td>0.697717</td>\n",
       "      <td>0.702673</td>\n",
       "      <td>0.677257</td>\n",
       "      <td>0.376784</td>\n",
       "      <td>0.460560</td>\n",
       "      <td>0.601768</td>\n",
       "      <td>0.379539</td>\n",
       "      <td>0.312952</td>\n",
       "    </tr>\n",
       "  </tbody>\n",
       "</table>\n",
       "</div>"
      ],
      "text/plain": [
       "                      HistGradientBoostingClassifier  CatBoostClassifier  \\\n",
       "thresholds                                  0.359707            0.377792   \n",
       "precision                                   0.666667            0.695067   \n",
       "recall                                      0.609037            0.609037   \n",
       "f_score                                     0.636550            0.649215   \n",
       "auc_precision_recall                        0.702436            0.715994   \n",
       "average_precision                           0.702707            0.716262   \n",
       "\n",
       "                      XGBRFClassifier  LGBMClassifier  RandomForestClassifier  \\\n",
       "thresholds                   0.297498        0.300170                0.380000   \n",
       "precision                    0.616981        0.624762                0.687927   \n",
       "recall                       0.642436        0.644401                0.593320   \n",
       "f_score                      0.629451        0.634429                0.637131   \n",
       "auc_precision_recall         0.697524        0.702391                0.680977   \n",
       "average_precision            0.697717        0.702673                0.677257   \n",
       "\n",
       "                      DecisionTreeClassifier  LogisticRegression       SVC  \\\n",
       "thresholds                          1.000000            0.260801  0.182361   \n",
       "precision                           0.519553            0.441088  0.496997   \n",
       "recall                              0.548134            0.573674  0.650295   \n",
       "f_score                             0.533461            0.498719  0.563404   \n",
       "auc_precision_recall                0.579843            0.459144  0.601163   \n",
       "average_precision                   0.376784            0.460560  0.601768   \n",
       "\n",
       "                      GaussianNB  KNeighborsClassifier  \n",
       "thresholds              0.231820              0.200000  \n",
       "precision               0.428571              0.280395  \n",
       "recall                  0.583497              0.724951  \n",
       "f_score                 0.494176              0.404384  \n",
       "auc_precision_recall    0.378240              0.355542  \n",
       "average_precision       0.379539              0.312952  "
      ]
     },
     "execution_count": 211,
     "metadata": {},
     "output_type": "execute_result"
    }
   ],
   "source": [
    "metrics_df = pd.DataFrame(hist.values(), index=hist.keys(), columns=['HistGradientBoostingClassifier'])\n",
    "metrics_df.insert(loc=len(metrics_df.columns), column='CatBoostClassifier', value=cat.values())\n",
    "metrics_df.insert(loc=len(metrics_df.columns), column='XGBRFClassifier', value=xgbd.values())\n",
    "metrics_df.insert(loc=len(metrics_df.columns), column='LGBMClassifier', value=lgbm.values())\n",
    "metrics_df.insert(loc=len(metrics_df.columns), column='RandomForestClassifier', value=rf.values())\n",
    "metrics_df.insert(loc=len(metrics_df.columns), column='DecisionTreeClassifier', value=tree.values())\n",
    "metrics_df.insert(loc=len(metrics_df.columns), column='LogisticRegression', value=log.values())\n",
    "metrics_df.insert(loc=len(metrics_df.columns), column='SVC', value=svm.values())\n",
    "metrics_df.insert(loc=len(metrics_df.columns), column='GaussianNB', value=bayas.values())\n",
    "metrics_df.insert(loc=len(metrics_df.columns), column='KNeighborsClassifier', value=neigbors.values())\n",
    "metrics_df"
   ]
  },
  {
   "cell_type": "markdown",
   "id": "8c8f6ff7",
   "metadata": {},
   "source": [
    "По умолчянию более точной моделью по метрике PR auc оказалась модель градиентного бустинга CatBoostClassifier. Далее подберем для нее гиперпараметры"
   ]
  },
  {
   "cell_type": "code",
   "execution_count": 277,
   "id": "53fb17b2",
   "metadata": {},
   "outputs": [],
   "source": [
    "params = { \n",
    "          'max_depth': list(range(1,15,1)),\n",
    "          'n_estimators': list(range(1000,1700,10)),\n",
    "         }\n",
    "\n",
    "cat = CatBoostClassifier(silent=True, random_state=42)\n",
    "cv=KFold(n_splits=3, random_state=21, shuffle=True)"
   ]
  },
  {
   "cell_type": "code",
   "execution_count": 279,
   "id": "2f7a89eb",
   "metadata": {},
   "outputs": [],
   "source": [
    "pipeline_for_cat = Pipeline([\n",
    "    ('features', feature_tree)])\n",
    "X_matrix_train = pipeline_for_cat.fit_transform(X_train)"
   ]
  },
  {
   "cell_type": "code",
   "execution_count": null,
   "id": "2556af82",
   "metadata": {},
   "outputs": [],
   "source": [
    "%%time\n",
    "grid = RandomizedSearchCV(cat, params, scoring='average_precision', cv=cv, n_jobs=-1)\n",
    "grid.fit(X_matrix_train, y_train)"
   ]
  },
  {
   "cell_type": "code",
   "execution_count": null,
   "id": "35b99cb8",
   "metadata": {},
   "outputs": [],
   "source": [
    "grid.best_params_"
   ]
  },
  {
   "cell_type": "code",
   "execution_count": null,
   "id": "dfdb95f9",
   "metadata": {},
   "outputs": [],
   "source": [
    "grid.best_score_"
   ]
  },
  {
   "cell_type": "code",
   "execution_count": 150,
   "id": "edf86758",
   "metadata": {},
   "outputs": [
    {
     "data": {
      "image/png": "[encoded data removed]",
      "text/plain": [
       "<Figure size 640x480 with 1 Axes>"
      ]
     },
     "metadata": {},
     "output_type": "display_data"
    }
   ],
   "source": [
    "from sklearn.metrics import PrecisionRecallDisplay\n",
    "\n",
    "cat_pf = Pipeline([\n",
    "        ('features', feature_tree),\n",
    "        ('classifier', CatBoostClassifier(silent=True,  random_state=42, max_depth = ,n_estimators =)),\n",
    "    ])\n",
    "cat_pf.fit(X_train, y_train)\n",
    "\n",
    "display = PrecisionRecallDisplay.from_estimator(cat_pf, X_test, y_test, name=\"CatBoostClassifier\", plot_chance_level=True\n",
    ")\n",
    "_ = display.ax_.set_title(\"2-class Precision-Recall curve\")"
   ]
  },
  {
   "cell_type": "code",
   "execution_count": null,
   "id": "b1ae4ed9",
   "metadata": {},
   "outputs": [],
   "source": []
  }
 ],
 "metadata": {
  "kernelspec": {
   "display_name": "Python 3 (ipykernel)",
   "language": "python",
   "name": "python3"
  },
  "language_info": {
   "codemirror_mode": {
    "name": "ipython",
    "version": 3
   },
   "file_extension": ".py",
   "mimetype": "text/x-python",
   "name": "python",
   "nbconvert_exporter": "python",
   "pygments_lexer": "ipython3",
   "version": "3.11.4"
  }
 },
 "nbformat": 4,
 "nbformat_minor": 5
}

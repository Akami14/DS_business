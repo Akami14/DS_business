{
 "cells": [
  {
   "cell_type": "code",
   "execution_count": 183,
   "id": "95540e48",
   "metadata": {},
   "outputs": [],
   "source": [
    "# Base\n",
    "import numpy as np\n",
    "import pandas as pd \n",
    "import seaborn as sns\n",
    "import matplotlib.pyplot as plt\n",
    "import os\n",
    "import random \n",
    "\n",
    "# Hypothesis Testing\n",
    "import statsmodels.api as sm\n",
    "from scipy.stats import shapiro, anderson\n",
    "import scipy.stats as stats\n",
    "from statsmodels.stats import proportion\n",
    "\n",
    "from scipy.stats import mannwhitneyu, wilcoxon, kruskal\n",
    "import warnings\n",
    "warnings.filterwarnings(\"ignore\")"
   ]
  },
  {
   "cell_type": "markdown",
   "id": "00338544",
   "metadata": {},
   "source": [
    "### Домашнее задание\n",
    "\n",
    "#### 1. Если мы рассчитали 95% доверительный интервал для среднего значения, то какие из следующих утверждений являются верными?\n",
    "\n",
    "Выберите несколько вариантов и попытайтесь объяснить свой выбор:\n",
    "\n",
    "1) Если многократно повторять эксперимент, то 95 % выборочных средних значений будут принадлежать рассчитанному нами доверительному интервалу.\n",
    "\n",
    "2) Мы можем быть на 95% уверены, что среднее значение в генеральной совокупности принадлежит рассчитанному доверительному интервалу.\n",
    "\n",
    "3) Если многократно повторять эксперимент, для каждой выборки рассчитывать свой доверительный интервал, то в 95 % случаев истинное среднее будет находиться внутри доверительного интервала.\n",
    "\n",
    "4) Среднее значение в генеральной совокупности точно превышает нижнюю границу 95% доверительного интервала.\n",
    "\n",
    "5) Среднее значение в генеральной совокупности точно принадлежит рассчитанному доверительному интервалу.\n",
    "\n",
    "#### 2. Если мы увеличиваем объем выборки в два раза (при условии, что показатель стандартного отклонения остается неизменным), то 95% доверительный интервал\n",
    "\n",
    "Выберите один вариант из списка\n",
    "\n",
    "1) стал более узким\n",
    "2) возможны оба варианта\n",
    "3) стал более широким\n",
    "\n",
    "#### 3. В центре 95% доверительного интервала, рассчитанного по выборочным значениям, находится:\n",
    "\n",
    "Выберите один вариант из списка\n",
    "\n",
    "1) Значение стандартной ошибки среднего\n",
    "2) Выборочное среднее значение\n",
    "3) Среднее значение генеральной совокупности\n",
    "\n",
    "#### 4. Часто на практике нулевая гипотеза отклоняется, и различия считаются статистически достоверными, если p < 0,05. Однако часто в статистике используется более жесткий критерий достоверности различий, например, при условии, что p < 0,01. Значение p-уровня значимости, которое выбирается, в качестве порога обозначается буквой α (альфа). Например, если исследователь решил, что α = 0,05, то и нулевая гипотеза будет отклоняться при условии, что p < 0,05. \n",
    "\n",
    "#### Если в определенной ситуации весьма рискованно отклонить нулевую гипотезу, когда она на самом деле верна, то лучше использовать показатель α равный \n",
    "\n",
    "Выберите один вариант из списка\n",
    "\n",
    "1) 0,1\n",
    "2) 0,001\n",
    "3) 0,05\n",
    "4) 0,5\n",
    "\n",
    "#### 5. Данные некоторого исследования сообщают нам, что средний рост детей в 14 лет составляет 166 сантиметров. Однако это лишь выборочная оценка, и исследователи рассчитали 95% доверительный интервал, который составил [160, 172]. Укажите верные утверждения:\n",
    "\n",
    "Выберите несколько вариантов и попытайтесь объяснить свой выбор:\n",
    "\n",
    "1) У нас достаточно оснований отклонить нулевую гипотезу, что среднее в генеральной совокупности равняется 173\n",
    "2) Вероятность того, что истинное среднее значение больше 172, составляет 0,01\n",
    "3) У нас достаточно оснований отклонить нулевую гипотезу, что среднее в генеральной совокупности равняется 158.\n",
    "4) Доверительный интервал не может иметь такие границы, т. к. выборочное стандартное отклонение равняется 10, следовательно доверительный интервал должен быть значительно шире.\n",
    "\n",
    "#### 6. Предположим, нулевой гипотезой вашего исследования являлось предположение, что конверсия в генеральной совокупности равняется 0.4. Вы получили p = 0,12 и не смогли отклонить нулевую гипотезу. Однако позже выяснилось, что конверсия в генеральной совокупности действиетльно равна 0.4. Как можно оценить результаты?\n",
    "\n",
    "\n",
    "Какой вариант корректный по вашему мнению и почему?\n",
    "1) Вы не совершали ни ошибку первого рода, ни ошибку второго рода.\n",
    "2) Вы совершили ошибку первого рода\n",
    "3) Вы совершили ошибку второго рода"
   ]
  },
  {
   "cell_type": "markdown",
   "id": "364e31b2",
   "metadata": {},
   "source": [
    "### Ответы"
   ]
  },
  {
   "cell_type": "markdown",
   "id": "1e78005a",
   "metadata": {},
   "source": [
    "1) 2 и 3 \n",
    "2) 1 уменьшим где то на корень из двух\n",
    "3) 2 выборочное среднее\n",
    "4) чем меньше тем лучше ответ - 2 (чем меньше альфа тем меньше вероятность отклонить H0)\n",
    "5) 1 и 3, сигма = (172-160)/4=3 158 и 173 лежат за пределом alpha  =0.05\n",
    "6) 1 недостаточный размер выборки следствие ошибки 1го рода"
   ]
  },
  {
   "cell_type": "markdown",
   "id": "815ddfdc",
   "metadata": {},
   "source": [
    "### Анализ данных AB теста"
   ]
  },
  {
   "cell_type": "markdown",
   "id": "d0876c8c",
   "metadata": {},
   "source": [
    "* version Whether the player was put in the control group (gate_30 - a gate at level 30) or the group with the moved gate (gate_40 - a a gate at level 40\n",
    "* sum_gamerounds The number of game rounds played by the player during the first 14 days after install\n",
    "* retention_1 Did the player come back and play 1 day after installing?\n",
    "* retention_7 Did the player come back and play 7 days after installing?"
   ]
  },
  {
   "cell_type": "code",
   "execution_count": 6,
   "id": "8dcc628c",
   "metadata": {},
   "outputs": [],
   "source": [
    "df = pd.read_csv(\"cookie_cats.csv\")"
   ]
  },
  {
   "cell_type": "code",
   "execution_count": 219,
   "id": "a155328f",
   "metadata": {},
   "outputs": [
    {
     "data": {
      "text/plain": [
       "(90189, 5)"
      ]
     },
     "execution_count": 219,
     "metadata": {},
     "output_type": "execute_result"
    }
   ],
   "source": [
    "df.shape"
   ]
  },
  {
   "cell_type": "code",
   "execution_count": 8,
   "id": "f65a9a2d",
   "metadata": {
    "scrolled": true
   },
   "outputs": [
    {
     "data": {
      "text/html": [
       "<div>\n",
       "<style scoped>\n",
       "    .dataframe tbody tr th:only-of-type {\n",
       "        vertical-align: middle;\n",
       "    }\n",
       "\n",
       "    .dataframe tbody tr th {\n",
       "        vertical-align: top;\n",
       "    }\n",
       "\n",
       "    .dataframe thead th {\n",
       "        text-align: right;\n",
       "    }\n",
       "</style>\n",
       "<table border=\"1\" class=\"dataframe\">\n",
       "  <thead>\n",
       "    <tr style=\"text-align: right;\">\n",
       "      <th></th>\n",
       "      <th>userid</th>\n",
       "      <th>version</th>\n",
       "      <th>sum_gamerounds</th>\n",
       "      <th>retention_1</th>\n",
       "      <th>retention_7</th>\n",
       "    </tr>\n",
       "  </thead>\n",
       "  <tbody>\n",
       "    <tr>\n",
       "      <th>0</th>\n",
       "      <td>116</td>\n",
       "      <td>A</td>\n",
       "      <td>3</td>\n",
       "      <td>0</td>\n",
       "      <td>0</td>\n",
       "    </tr>\n",
       "    <tr>\n",
       "      <th>1</th>\n",
       "      <td>337</td>\n",
       "      <td>A</td>\n",
       "      <td>38</td>\n",
       "      <td>1</td>\n",
       "      <td>0</td>\n",
       "    </tr>\n",
       "    <tr>\n",
       "      <th>2</th>\n",
       "      <td>377</td>\n",
       "      <td>B</td>\n",
       "      <td>165</td>\n",
       "      <td>1</td>\n",
       "      <td>0</td>\n",
       "    </tr>\n",
       "  </tbody>\n",
       "</table>\n",
       "</div>"
      ],
      "text/plain": [
       "   userid version  sum_gamerounds  retention_1  retention_7\n",
       "0     116       A               3            0            0\n",
       "1     337       A              38            1            0\n",
       "2     377       B             165            1            0"
      ]
     },
     "execution_count": 8,
     "metadata": {},
     "output_type": "execute_result"
    }
   ],
   "source": [
    "df['version'].replace({'gate_30':'A', 'gate_40':'B'}, inplace=True)\n",
    "df['retention_1'].replace({False:0, True:1}, inplace=True)\n",
    "df['retention_7'].replace({False:0, True:1}, inplace=True)\n",
    "df.head(3)"
   ]
  },
  {
   "cell_type": "code",
   "execution_count": 200,
   "id": "9e4a5494",
   "metadata": {
    "scrolled": true
   },
   "outputs": [
    {
     "data": {
      "image/png": "[encoded data removed]",
      "text/plain": [
       "<Figure size 640x480 with 1 Axes>"
      ]
     },
     "metadata": {},
     "output_type": "display_data"
    },
    {
     "data": {
      "image/png": "[encoded data removed]",
      "text/plain": [
       "<Figure size 640x480 with 1 Axes>"
      ]
     },
     "metadata": {},
     "output_type": "display_data"
    }
   ],
   "source": [
    "fig = sm.qqplot(df['sum_gamerounds'].loc[df['version']=='A'], line='45')\n",
    "plt.title('QQ график для A')\n",
    "fig.legend('A', fontsize=10)\n",
    "fig = sm.qqplot(df['sum_gamerounds'].loc[df['version']=='B'], line='45')\n",
    "plt.title('QQ график для B')\n",
    "fig.legend('B', fontsize=10)\n",
    "plt.show()"
   ]
  },
  {
   "cell_type": "markdown",
   "id": "f635de15",
   "metadata": {},
   "source": [
    "#### Как видно из графиков выше данные явно не имеют нормальное распределение, подтвердим ниже тестом шапиро и андерсона. Так же для выборки A видно крайне выдающиесчя значение признака sum_gamerounds больше 40k\n"
   ]
  },
  {
   "cell_type": "markdown",
   "id": "2703a17f",
   "metadata": {},
   "source": [
    "## Тест Шапиро и Андерсана для ЦП групп А и B"
   ]
  },
  {
   "cell_type": "code",
   "execution_count": 93,
   "id": "0cf7dea4",
   "metadata": {},
   "outputs": [
    {
     "name": "stdout",
     "output_type": "stream",
     "text": [
      "Shapiro test for sum_gamerounds A\n",
      "It is not normal distribution (Gaussian)\n",
      "Statistic: 0.08805108070373535; p_value: 0.0\n"
     ]
    }
   ],
   "source": [
    "print('Shapiro test for sum_gamerounds A')\n",
    "statistic, p_value = shapiro(df['sum_gamerounds'].loc[df['version']=='A'])\n",
    "a = 0.05\n",
    "if a < p_value:\n",
    "    print('It is normal distribution (Gaussian)')\n",
    "elif a > p_value:\n",
    "    print('It is not normal distribution (Gaussian)')\n",
    "elif a == p_value:\n",
    "    print('It is edge case')\n",
    "    \n",
    "print(f'Statistic: {statistic}; p_value: {p_value}')"
   ]
  },
  {
   "cell_type": "code",
   "execution_count": 98,
   "id": "6ad8e210",
   "metadata": {},
   "outputs": [
    {
     "name": "stdout",
     "output_type": "stream",
     "text": [
      "Anderson test for sum_gamerounds A\n",
      "Statistic: 10493.396\n",
      "5.000: 0.787, data does not look normal (reject H0)\n"
     ]
    }
   ],
   "source": [
    "print('Anderson test for sum_gamerounds A')\n",
    "result = anderson(df['sum_gamerounds'].loc[df['version']=='A'])\n",
    "print('Statistic: %.3f' % result.statistic)\n",
    "sl, cv = result.significance_level[2], result.critical_values[2]\n",
    "if result.statistic < result.critical_values[2]:\n",
    "    print('%.3f: %.3f, data looks normal (fail to reject H0)' % (sl, cv))\n",
    "else:\n",
    "    print('%.3f: %.3f, data does not look normal (reject H0)' % (sl, cv))"
   ]
  },
  {
   "cell_type": "code",
   "execution_count": 94,
   "id": "609907d9",
   "metadata": {},
   "outputs": [
    {
     "name": "stdout",
     "output_type": "stream",
     "text": [
      "Shapiro test for sum_gamerounds B\n",
      "It is not normal distribution (Gaussian)\n",
      "Statistic: 0.48256635665893555; p_value: 0.0\n"
     ]
    }
   ],
   "source": [
    "print('Shapiro test for sum_gamerounds B')\n",
    "statistic, p_value = shapiro(df['sum_gamerounds'].loc[df['version']=='B'])\n",
    "a = 0.05\n",
    "if a < p_value:\n",
    "    print('It is normal distribution (Gaussian)')\n",
    "elif a > p_value:\n",
    "    print('It is not normal distribution (Gaussian)')\n",
    "elif a == p_value:\n",
    "    print('It is edge case')\n",
    "    \n",
    "print(f'Statistic: {statistic}; p_value: {p_value}')"
   ]
  },
  {
   "cell_type": "code",
   "execution_count": 99,
   "id": "5ee37972",
   "metadata": {},
   "outputs": [
    {
     "name": "stdout",
     "output_type": "stream",
     "text": [
      "Anderson test for sum_gamerounds B\n",
      "Statistic: 6742.854\n",
      "5.000: 0.787, data does not look normal (reject H0)\n"
     ]
    }
   ],
   "source": [
    "print('Anderson test for sum_gamerounds B')\n",
    "result = anderson(df['sum_gamerounds'].loc[df['version']=='B'])\n",
    "print('Statistic: %.3f' % result.statistic)\n",
    "sl, cv = result.significance_level[2], result.critical_values[2]\n",
    "if result.statistic < result.critical_values[2]:\n",
    "\tprint('%.3f: %.3f, data looks normal (fail to reject H0)' % (sl, cv))\n",
    "else:\n",
    "\tprint('%.3f: %.3f, data does not look normal (reject H0)' % (sl, cv))"
   ]
  },
  {
   "cell_type": "markdown",
   "id": "7f317b10",
   "metadata": {},
   "source": [
    "## Общая статистика по группам A и B"
   ]
  },
  {
   "cell_type": "code",
   "execution_count": 9,
   "id": "f39729b6",
   "metadata": {
    "scrolled": true
   },
   "outputs": [
    {
     "data": {
      "text/html": [
       "<div>\n",
       "<style scoped>\n",
       "    .dataframe tbody tr th:only-of-type {\n",
       "        vertical-align: middle;\n",
       "    }\n",
       "\n",
       "    .dataframe tbody tr th {\n",
       "        vertical-align: top;\n",
       "    }\n",
       "\n",
       "    .dataframe thead th {\n",
       "        text-align: right;\n",
       "    }\n",
       "</style>\n",
       "<table border=\"1\" class=\"dataframe\">\n",
       "  <thead>\n",
       "    <tr style=\"text-align: right;\">\n",
       "      <th></th>\n",
       "      <th>userid</th>\n",
       "      <th>sum_gamerounds</th>\n",
       "      <th>retention_1</th>\n",
       "      <th>retention_7</th>\n",
       "    </tr>\n",
       "  </thead>\n",
       "  <tbody>\n",
       "    <tr>\n",
       "      <th>count</th>\n",
       "      <td>4.470000e+04</td>\n",
       "      <td>44700.000000</td>\n",
       "      <td>44700.000000</td>\n",
       "      <td>44700.000000</td>\n",
       "    </tr>\n",
       "    <tr>\n",
       "      <th>mean</th>\n",
       "      <td>4.987564e+06</td>\n",
       "      <td>52.456264</td>\n",
       "      <td>0.448188</td>\n",
       "      <td>0.190201</td>\n",
       "    </tr>\n",
       "    <tr>\n",
       "      <th>std</th>\n",
       "      <td>2.881026e+06</td>\n",
       "      <td>256.716423</td>\n",
       "      <td>0.497314</td>\n",
       "      <td>0.392464</td>\n",
       "    </tr>\n",
       "    <tr>\n",
       "      <th>min</th>\n",
       "      <td>1.160000e+02</td>\n",
       "      <td>0.000000</td>\n",
       "      <td>0.000000</td>\n",
       "      <td>0.000000</td>\n",
       "    </tr>\n",
       "    <tr>\n",
       "      <th>25%</th>\n",
       "      <td>2.505469e+06</td>\n",
       "      <td>5.000000</td>\n",
       "      <td>0.000000</td>\n",
       "      <td>0.000000</td>\n",
       "    </tr>\n",
       "    <tr>\n",
       "      <th>50%</th>\n",
       "      <td>4.983631e+06</td>\n",
       "      <td>17.000000</td>\n",
       "      <td>0.000000</td>\n",
       "      <td>0.000000</td>\n",
       "    </tr>\n",
       "    <tr>\n",
       "      <th>75%</th>\n",
       "      <td>7.481497e+06</td>\n",
       "      <td>50.000000</td>\n",
       "      <td>1.000000</td>\n",
       "      <td>0.000000</td>\n",
       "    </tr>\n",
       "    <tr>\n",
       "      <th>max</th>\n",
       "      <td>9.999710e+06</td>\n",
       "      <td>49854.000000</td>\n",
       "      <td>1.000000</td>\n",
       "      <td>1.000000</td>\n",
       "    </tr>\n",
       "  </tbody>\n",
       "</table>\n",
       "</div>"
      ],
      "text/plain": [
       "             userid  sum_gamerounds   retention_1   retention_7\n",
       "count  4.470000e+04    44700.000000  44700.000000  44700.000000\n",
       "mean   4.987564e+06       52.456264      0.448188      0.190201\n",
       "std    2.881026e+06      256.716423      0.497314      0.392464\n",
       "min    1.160000e+02        0.000000      0.000000      0.000000\n",
       "25%    2.505469e+06        5.000000      0.000000      0.000000\n",
       "50%    4.983631e+06       17.000000      0.000000      0.000000\n",
       "75%    7.481497e+06       50.000000      1.000000      0.000000\n",
       "max    9.999710e+06    49854.000000      1.000000      1.000000"
      ]
     },
     "execution_count": 9,
     "metadata": {},
     "output_type": "execute_result"
    }
   ],
   "source": [
    "df[df['version']=='A'].describe()"
   ]
  },
  {
   "cell_type": "code",
   "execution_count": 15,
   "id": "cb7a7f61",
   "metadata": {},
   "outputs": [
    {
     "data": {
      "text/html": [
       "<div>\n",
       "<style scoped>\n",
       "    .dataframe tbody tr th:only-of-type {\n",
       "        vertical-align: middle;\n",
       "    }\n",
       "\n",
       "    .dataframe tbody tr th {\n",
       "        vertical-align: top;\n",
       "    }\n",
       "\n",
       "    .dataframe thead th {\n",
       "        text-align: right;\n",
       "    }\n",
       "</style>\n",
       "<table border=\"1\" class=\"dataframe\">\n",
       "  <thead>\n",
       "    <tr style=\"text-align: right;\">\n",
       "      <th></th>\n",
       "      <th>userid</th>\n",
       "      <th>sum_gamerounds</th>\n",
       "      <th>retention_1</th>\n",
       "      <th>retention_7</th>\n",
       "    </tr>\n",
       "  </thead>\n",
       "  <tbody>\n",
       "    <tr>\n",
       "      <th>count</th>\n",
       "      <td>4.548900e+04</td>\n",
       "      <td>45489.000000</td>\n",
       "      <td>45489.000000</td>\n",
       "      <td>45489.000000</td>\n",
       "    </tr>\n",
       "    <tr>\n",
       "      <th>mean</th>\n",
       "      <td>5.009073e+06</td>\n",
       "      <td>51.298776</td>\n",
       "      <td>0.442283</td>\n",
       "      <td>0.182000</td>\n",
       "    </tr>\n",
       "    <tr>\n",
       "      <th>std</th>\n",
       "      <td>2.885496e+06</td>\n",
       "      <td>103.294416</td>\n",
       "      <td>0.496663</td>\n",
       "      <td>0.385849</td>\n",
       "    </tr>\n",
       "    <tr>\n",
       "      <th>min</th>\n",
       "      <td>3.770000e+02</td>\n",
       "      <td>0.000000</td>\n",
       "      <td>0.000000</td>\n",
       "      <td>0.000000</td>\n",
       "    </tr>\n",
       "    <tr>\n",
       "      <th>25%</th>\n",
       "      <td>2.517171e+06</td>\n",
       "      <td>5.000000</td>\n",
       "      <td>0.000000</td>\n",
       "      <td>0.000000</td>\n",
       "    </tr>\n",
       "    <tr>\n",
       "      <th>50%</th>\n",
       "      <td>5.007329e+06</td>\n",
       "      <td>16.000000</td>\n",
       "      <td>0.000000</td>\n",
       "      <td>0.000000</td>\n",
       "    </tr>\n",
       "    <tr>\n",
       "      <th>75%</th>\n",
       "      <td>7.510762e+06</td>\n",
       "      <td>52.000000</td>\n",
       "      <td>1.000000</td>\n",
       "      <td>0.000000</td>\n",
       "    </tr>\n",
       "    <tr>\n",
       "      <th>max</th>\n",
       "      <td>9.999861e+06</td>\n",
       "      <td>2640.000000</td>\n",
       "      <td>1.000000</td>\n",
       "      <td>1.000000</td>\n",
       "    </tr>\n",
       "  </tbody>\n",
       "</table>\n",
       "</div>"
      ],
      "text/plain": [
       "             userid  sum_gamerounds   retention_1   retention_7\n",
       "count  4.548900e+04    45489.000000  45489.000000  45489.000000\n",
       "mean   5.009073e+06       51.298776      0.442283      0.182000\n",
       "std    2.885496e+06      103.294416      0.496663      0.385849\n",
       "min    3.770000e+02        0.000000      0.000000      0.000000\n",
       "25%    2.517171e+06        5.000000      0.000000      0.000000\n",
       "50%    5.007329e+06       16.000000      0.000000      0.000000\n",
       "75%    7.510762e+06       52.000000      1.000000      0.000000\n",
       "max    9.999861e+06     2640.000000      1.000000      1.000000"
      ]
     },
     "execution_count": 15,
     "metadata": {},
     "output_type": "execute_result"
    }
   ],
   "source": [
    "df[df['version']=='B'].describe()"
   ]
  },
  {
   "cell_type": "code",
   "execution_count": 47,
   "id": "d9ec2281",
   "metadata": {
    "scrolled": true
   },
   "outputs": [
    {
     "data": {
      "text/html": [
       "<div>\n",
       "<style scoped>\n",
       "    .dataframe tbody tr th:only-of-type {\n",
       "        vertical-align: middle;\n",
       "    }\n",
       "\n",
       "    .dataframe tbody tr th {\n",
       "        vertical-align: top;\n",
       "    }\n",
       "\n",
       "    .dataframe thead th {\n",
       "        text-align: right;\n",
       "    }\n",
       "</style>\n",
       "<table border=\"1\" class=\"dataframe\">\n",
       "  <thead>\n",
       "    <tr style=\"text-align: right;\">\n",
       "      <th></th>\n",
       "      <th>count</th>\n",
       "      <th>mean</th>\n",
       "      <th>std</th>\n",
       "      <th>min</th>\n",
       "      <th>25%</th>\n",
       "      <th>50%</th>\n",
       "      <th>75%</th>\n",
       "      <th>max</th>\n",
       "    </tr>\n",
       "    <tr>\n",
       "      <th>version</th>\n",
       "      <th></th>\n",
       "      <th></th>\n",
       "      <th></th>\n",
       "      <th></th>\n",
       "      <th></th>\n",
       "      <th></th>\n",
       "      <th></th>\n",
       "      <th></th>\n",
       "    </tr>\n",
       "  </thead>\n",
       "  <tbody>\n",
       "    <tr>\n",
       "      <th>A</th>\n",
       "      <td>44700.0</td>\n",
       "      <td>52.456264</td>\n",
       "      <td>256.716423</td>\n",
       "      <td>0.0</td>\n",
       "      <td>5.0</td>\n",
       "      <td>17.0</td>\n",
       "      <td>50.0</td>\n",
       "      <td>49854.0</td>\n",
       "    </tr>\n",
       "    <tr>\n",
       "      <th>B</th>\n",
       "      <td>45489.0</td>\n",
       "      <td>51.298776</td>\n",
       "      <td>103.294416</td>\n",
       "      <td>0.0</td>\n",
       "      <td>5.0</td>\n",
       "      <td>16.0</td>\n",
       "      <td>52.0</td>\n",
       "      <td>2640.0</td>\n",
       "    </tr>\n",
       "  </tbody>\n",
       "</table>\n",
       "</div>"
      ],
      "text/plain": [
       "           count       mean         std  min  25%   50%   75%      max\n",
       "version                                                               \n",
       "A        44700.0  52.456264  256.716423  0.0  5.0  17.0  50.0  49854.0\n",
       "B        45489.0  51.298776  103.294416  0.0  5.0  16.0  52.0   2640.0"
      ]
     },
     "execution_count": 47,
     "metadata": {},
     "output_type": "execute_result"
    }
   ],
   "source": [
    "df.groupby('version')['sum_gamerounds'].describe()"
   ]
  },
  {
   "cell_type": "markdown",
   "id": "188a960d",
   "metadata": {},
   "source": [
    "### Mannwhitneyu \n",
    "\n",
    "U-критерий Манна-Уитни - это непараметрический критерий статистической значимости для определения того, были ли взяты две независимые выборки из популяции с одинаковым распределением.\n",
    "\n",
    "Два образца объединяются и ранжируются вместе. Стратегия состоит в том, чтобы определить, являются ли значения из двух выборок случайно смешанными в порядке ранжирования или они объединены в противоположные концы при объединении. Случайный порядок ранга будет означать, что две выборки не отличаются, в то время как кластер значений одной выборки будет указывать на разницу между ними."
   ]
  },
  {
   "cell_type": "markdown",
   "id": "223fa102",
   "metadata": {},
   "source": [
    "#### Двухстороний"
   ]
  },
  {
   "cell_type": "code",
   "execution_count": 189,
   "id": "60cb1d31",
   "metadata": {},
   "outputs": [
    {
     "name": "stdout",
     "output_type": "stream",
     "text": [
      "We have failed to reject the null hypothesis\n"
     ]
    },
    {
     "data": {
      "text/plain": [
       "MannwhitneyuResult(statistic=1024331250.5, pvalue=0.05020880772044255)"
      ]
     },
     "execution_count": 189,
     "metadata": {},
     "output_type": "execute_result"
    }
   ],
   "source": [
    "mw_stats = mannwhitneyu(x=df[df['version'] == 'A']['sum_gamerounds'].values,\n",
    "                                                  y=df[df['version'] == 'B']['sum_gamerounds'].values)\n",
    "alpha = 0.05\n",
    "if mw_stats[1] < alpha:\n",
    "    print(\"We may reject the null hypothesis!\")\n",
    "else:\n",
    "    print(\"We have failed to reject the null hypothesis\")\n",
    "mw_stats"
   ]
  },
  {
   "cell_type": "markdown",
   "id": "10b80101",
   "metadata": {},
   "source": [
    "### С отсечением подозрительных значений sum_gamerounds в выборке A"
   ]
  },
  {
   "cell_type": "code",
   "execution_count": 203,
   "id": "370b67a0",
   "metadata": {},
   "outputs": [
    {
     "name": "stdout",
     "output_type": "stream",
     "text": [
      "We have failed to reject the null hypothesis\n"
     ]
    },
    {
     "data": {
      "text/plain": [
       "MannwhitneyuResult(statistic=1024285761.5, pvalue=0.05089155279145376)"
      ]
     },
     "execution_count": 203,
     "metadata": {},
     "output_type": "execute_result"
    }
   ],
   "source": [
    "mw_stats = mannwhitneyu(x=df[(df['version'] == 'A') & (df['sum_gamerounds'] < 40000)]['sum_gamerounds'].values,\n",
    "                                                  y=df[df['version'] == 'B']['sum_gamerounds'].values)\n",
    "alpha = 0.05\n",
    "if mw_stats[1] < alpha:\n",
    "    print(\"We may reject the null hypothesis!\")\n",
    "else:\n",
    "    print(\"We have failed to reject the null hypothesis\")\n",
    "mw_stats"
   ]
  },
  {
   "cell_type": "markdown",
   "id": "a7251380",
   "metadata": {},
   "source": [
    "### Kruskal \n",
    "является непараметрической версией одностороннего дисперсионного анализа или ANOVA. Этот тест можно использовать для определения того, имеют ли более двух независимых выборок различное распределение. Его можно рассматривать как обобщение U-критерия Манна-Уитни."
   ]
  },
  {
   "cell_type": "code",
   "execution_count": 184,
   "id": "337fd223",
   "metadata": {},
   "outputs": [
    {
     "name": "stdout",
     "output_type": "stream",
     "text": [
      "Statistics=3.834, p=0.050\n",
      "Same distributions (fail to reject H0)\n"
     ]
    }
   ],
   "source": [
    "stat, p = kruskal(df[df['version'] == 'A']['sum_gamerounds'].values, df[df['version'] == 'B']['sum_gamerounds'], )\n",
    "print('Statistics=%.3f, p=%.3f' % (stat, p))\n",
    "# interpret\n",
    "alpha = 0.05\n",
    "if p > alpha:\n",
    "    print('Same distributions (fail to reject H0)')\n",
    "else:\n",
    "    print('Different distributions (reject H0)')"
   ]
  },
  {
   "cell_type": "code",
   "execution_count": 205,
   "id": "38b78c97",
   "metadata": {},
   "outputs": [
    {
     "name": "stdout",
     "output_type": "stream",
     "text": [
      "Statistics=3.812, p=0.051\n",
      "Same distributions (fail to reject H0)\n"
     ]
    }
   ],
   "source": [
    "stat, p = kruskal(df[(df['version'] == 'A') & (df['sum_gamerounds'] < 40000)]['sum_gamerounds'].values, df[df['version'] == 'B']['sum_gamerounds'], )\n",
    "print('Statistics=%.3f, p=%.3f' % (stat, p))\n",
    "# interpret\n",
    "alpha = 0.05\n",
    "if p > alpha:\n",
    "    print('Same distributions (fail to reject H0)')\n",
    "else:\n",
    "    print('Different distributions (reject H0)')"
   ]
  },
  {
   "cell_type": "markdown",
   "id": "87a61ec0",
   "metadata": {},
   "source": [
    "### Перестановочный тест \n"
   ]
  },
  {
   "cell_type": "code",
   "execution_count": 139,
   "id": "3ab7439b",
   "metadata": {},
   "outputs": [],
   "source": [
    "def perm_fun(x, nA, nB):\n",
    "    n = nA + nB\n",
    "    indx_b = set(random.sample(range(n),nB))\n",
    "    indx_a = set(range(n))-indx_b\n",
    "    return x.loc[indx_b].mean()-x.loc[indx_a].mean()"
   ]
  },
  {
   "cell_type": "code",
   "execution_count": 216,
   "id": "b1d5562b",
   "metadata": {},
   "outputs": [],
   "source": [
    "mean_b = df[df['version'] == 'B']['sum_gamerounds'].mean()\n",
    "mean_a = df[df['version'] == 'A']['sum_gamerounds'].mean()\n",
    "nA = df[df['version']=='A'].shape[0]\n",
    "nB = df[df['version']=='B'].shape[0]\n",
    "perm = [perm_fun(df['sum_gamerounds'], nA, nB) for _ in range(10000)]"
   ]
  },
  {
   "cell_type": "code",
   "execution_count": 217,
   "id": "4675253d",
   "metadata": {},
   "outputs": [
    {
     "data": {
      "image/png": "[encoded data removed]",
      "text/plain": [
       "<Figure size 640x480 with 1 Axes>"
      ]
     },
     "metadata": {},
     "output_type": "display_data"
    }
   ],
   "source": [
    "fig, ax = plt.subplots()\n",
    "ax.hist(perm, bins=22)\n",
    "ax.axvline(x=mean_a-mean_b, color='red')\n",
    "ax.set_xlabel('Разнича средних sum_gamerounds')\n",
    "ax.set_ylabel('Частота');"
   ]
  },
  {
   "cell_type": "code",
   "execution_count": 218,
   "id": "34ff6ebc",
   "metadata": {},
   "outputs": [
    {
     "data": {
      "text/plain": [
       "0.765"
      ]
     },
     "execution_count": 218,
     "metadata": {},
     "output_type": "execute_result"
    }
   ],
   "source": [
    "p_val = np.mean(perm > (mean_b-mean_a))\n",
    "p_val"
   ]
  },
  {
   "cell_type": "markdown",
   "id": "98fac427",
   "metadata": {},
   "source": [
    "Несмотря на крайне пограничное значение p_value всех непараметричиских тестов выборка A ничем не отличается от выборки B \n",
    "при alpha = 0.05. Еще большее значение p_value показал перестановочный тест. \n",
    "### Вывод - A=B при alpha =0.05\n"
   ]
  }
 ],
 "metadata": {
  "kernelspec": {
   "display_name": "Python 3 (ipykernel)",
   "language": "python",
   "name": "python3"
  },
  "language_info": {
   "codemirror_mode": {
    "name": "ipython",
    "version": 3
   },
   "file_extension": ".py",
   "mimetype": "text/x-python",
   "name": "python",
   "nbconvert_exporter": "python",
   "pygments_lexer": "ipython3",
   "version": "3.11.4"
  }
 },
 "nbformat": 4,
 "nbformat_minor": 5
}
